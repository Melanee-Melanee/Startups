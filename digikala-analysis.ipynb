{
 "cells": [
  {
   "cell_type": "code",
   "execution_count": 1,
   "id": "20477b6a",
   "metadata": {
    "_cell_guid": "b1076dfc-b9ad-4769-8c92-a6c4dae69d19",
    "_uuid": "8f2839f25d086af736a60e9eeb907d3b93b6e0e5",
    "execution": {
     "iopub.execute_input": "2022-09-19T15:30:02.877962Z",
     "iopub.status.busy": "2022-09-19T15:30:02.876931Z",
     "iopub.status.idle": "2022-09-19T15:30:05.380648Z",
     "shell.execute_reply": "2022-09-19T15:30:05.377972Z"
    },
    "papermill": {
     "duration": 2.520527,
     "end_time": "2022-09-19T15:30:05.384476",
     "exception": false,
     "start_time": "2022-09-19T15:30:02.863949",
     "status": "completed"
    },
    "tags": []
   },
   "outputs": [
    {
     "name": "stdout",
     "output_type": "stream",
     "text": [
      "/kaggle/input/digikala/digikala/3-p5s3708k.csv\n",
      "/kaggle/input/digikala/digikala/4-oska9ni8.xlsx\n",
      "/kaggle/input/digikala/digikala/1-k9d5q7lw.csv\n",
      "/kaggle/input/digikala/digikala/2-p9vcb5bb.xlsx\n",
      "/kaggle/input/digikala/digikala/5-awte8wbd.xlsx\n",
      "/kaggle/input/digikala/digikala/digikala/3-p5s3708k.csv\n",
      "/kaggle/input/digikala/digikala/digikala/4-oska9ni8.xlsx\n",
      "/kaggle/input/digikala/digikala/digikala/1-k9d5q7lw.csv\n",
      "/kaggle/input/digikala/digikala/digikala/2-p9vcb5bb.xlsx\n",
      "/kaggle/input/digikala/digikala/digikala/5-awte8wbd.xlsx\n"
     ]
    }
   ],
   "source": [
    "# This Python 3 environment comes with many helpful analytics libraries installed\n",
    "# It is defined by the kaggle/python Docker image: https://github.com/kaggle/docker-python\n",
    "# For example, here's several helpful packages to load\n",
    "\n",
    "import numpy as np # linear algebra\n",
    "import pandas as pd # data processing, CSV file I/O (e.g. pd.read_csv)\n",
    "import seaborn as sns\n",
    "import matplotlib.pyplot as plt\n",
    "import plotly.express as px\n",
    "\n",
    "\n",
    "\n",
    "# Input data files are available in the read-only \"../input/\" directory\n",
    "# For example, running this (by clicking run or pressing Shift+Enter) will list all files under the input directory\n",
    "\n",
    "import os\n",
    "for dirname, _, filenames in os.walk('/kaggle/input'):\n",
    "    for filename in filenames:\n",
    "        print(os.path.join(dirname, filename))\n",
    "\n",
    "# You can write up to 20GB to the current directory (/kaggle/working/) that gets preserved as output when you create a version using \"Save & Run All\" \n",
    "# You can also write temporary files to /kaggle/temp/, but they won't be saved outside of the current session"
   ]
  },
  {
   "cell_type": "code",
   "execution_count": 2,
   "id": "c74ace1b",
   "metadata": {
    "execution": {
     "iopub.execute_input": "2022-09-19T15:30:05.406413Z",
     "iopub.status.busy": "2022-09-19T15:30:05.405991Z",
     "iopub.status.idle": "2022-09-19T15:30:06.074582Z",
     "shell.execute_reply": "2022-09-19T15:30:06.073374Z"
    },
    "papermill": {
     "duration": 0.682396,
     "end_time": "2022-09-19T15:30:06.077434",
     "exception": false,
     "start_time": "2022-09-19T15:30:05.395038",
     "status": "completed"
    },
    "tags": []
   },
   "outputs": [],
   "source": [
    "df = pd.read_csv('../input/digikala/digikala/3-p5s3708k.csv')"
   ]
  },
  {
   "cell_type": "code",
   "execution_count": 3,
   "id": "96a48539",
   "metadata": {
    "execution": {
     "iopub.execute_input": "2022-09-19T15:30:06.097713Z",
     "iopub.status.busy": "2022-09-19T15:30:06.097055Z",
     "iopub.status.idle": "2022-09-19T15:30:06.106702Z",
     "shell.execute_reply": "2022-09-19T15:30:06.105491Z"
    },
    "papermill": {
     "duration": 0.023043,
     "end_time": "2022-09-19T15:30:06.109505",
     "exception": false,
     "start_time": "2022-09-19T15:30:06.086462",
     "status": "completed"
    },
    "tags": []
   },
   "outputs": [
    {
     "data": {
      "text/plain": [
       "(200000, 7)"
      ]
     },
     "execution_count": 3,
     "metadata": {},
     "output_type": "execute_result"
    }
   ],
   "source": [
    "#lets see the shape of dataset(the number of rows, the number of columns)\n",
    "df.shape"
   ]
  },
  {
   "cell_type": "code",
   "execution_count": 4,
   "id": "6b12bb1e",
   "metadata": {
    "execution": {
     "iopub.execute_input": "2022-09-19T15:30:06.130085Z",
     "iopub.status.busy": "2022-09-19T15:30:06.129687Z",
     "iopub.status.idle": "2022-09-19T15:30:06.160448Z",
     "shell.execute_reply": "2022-09-19T15:30:06.159554Z"
    },
    "papermill": {
     "duration": 0.043667,
     "end_time": "2022-09-19T15:30:06.162690",
     "exception": false,
     "start_time": "2022-09-19T15:30:06.119023",
     "status": "completed"
    },
    "tags": []
   },
   "outputs": [
    {
     "data": {
      "text/html": [
       "<div>\n",
       "<style scoped>\n",
       "    .dataframe tbody tr th:only-of-type {\n",
       "        vertical-align: middle;\n",
       "    }\n",
       "\n",
       "    .dataframe tbody tr th {\n",
       "        vertical-align: top;\n",
       "    }\n",
       "\n",
       "    .dataframe thead th {\n",
       "        text-align: right;\n",
       "    }\n",
       "</style>\n",
       "<table border=\"1\" class=\"dataframe\">\n",
       "  <thead>\n",
       "    <tr style=\"text-align: right;\">\n",
       "      <th></th>\n",
       "      <th>ID_Order</th>\n",
       "      <th>ID_Customer</th>\n",
       "      <th>ID_Item</th>\n",
       "      <th>DateTime_CartFinalize</th>\n",
       "      <th>Amount_Gross_Order</th>\n",
       "      <th>city_name_fa</th>\n",
       "      <th>Quantity_item</th>\n",
       "    </tr>\n",
       "  </thead>\n",
       "  <tbody>\n",
       "    <tr>\n",
       "      <th>0</th>\n",
       "      <td>2714054</td>\n",
       "      <td>469662</td>\n",
       "      <td>21386</td>\n",
       "      <td>2015-10-15 08:50:56.000</td>\n",
       "      <td>597982.0</td>\n",
       "      <td>محمود آباد</td>\n",
       "      <td>1.0</td>\n",
       "    </tr>\n",
       "    <tr>\n",
       "      <th>1</th>\n",
       "      <td>11104039</td>\n",
       "      <td>3063877</td>\n",
       "      <td>248497</td>\n",
       "      <td>2018-02-11 00:29:26.000</td>\n",
       "      <td>980000.0</td>\n",
       "      <td>خرمدره</td>\n",
       "      <td>1.0</td>\n",
       "    </tr>\n",
       "    <tr>\n",
       "      <th>2</th>\n",
       "      <td>4228130</td>\n",
       "      <td>3184893</td>\n",
       "      <td>50144</td>\n",
       "      <td>2016-06-14 00:30:08.000</td>\n",
       "      <td>229358.0</td>\n",
       "      <td>قرچک</td>\n",
       "      <td>1.0</td>\n",
       "    </tr>\n",
       "    <tr>\n",
       "      <th>3</th>\n",
       "      <td>22225624</td>\n",
       "      <td>6888562</td>\n",
       "      <td>70208</td>\n",
       "      <td>2018-09-03 14:37:19.000</td>\n",
       "      <td>16514.0</td>\n",
       "      <td>قم</td>\n",
       "      <td>1.0</td>\n",
       "    </tr>\n",
       "    <tr>\n",
       "      <th>4</th>\n",
       "      <td>4068771</td>\n",
       "      <td>2533490</td>\n",
       "      <td>67627</td>\n",
       "      <td>2016-05-21 11:51:02.000</td>\n",
       "      <td>133028.0</td>\n",
       "      <td>تهران</td>\n",
       "      <td>1.0</td>\n",
       "    </tr>\n",
       "    <tr>\n",
       "      <th>...</th>\n",
       "      <td>...</td>\n",
       "      <td>...</td>\n",
       "      <td>...</td>\n",
       "      <td>...</td>\n",
       "      <td>...</td>\n",
       "      <td>...</td>\n",
       "      <td>...</td>\n",
       "    </tr>\n",
       "    <tr>\n",
       "      <th>199985</th>\n",
       "      <td>6194722</td>\n",
       "      <td>483447</td>\n",
       "      <td>7108</td>\n",
       "      <td>2017-01-27 21:55:48.000</td>\n",
       "      <td>3623853.0</td>\n",
       "      <td>همدان</td>\n",
       "      <td>1.0</td>\n",
       "    </tr>\n",
       "    <tr>\n",
       "      <th>199986</th>\n",
       "      <td>22105540</td>\n",
       "      <td>4343929</td>\n",
       "      <td>738895</td>\n",
       "      <td>2018-08-30 09:42:40.000</td>\n",
       "      <td>192156.0</td>\n",
       "      <td>تهران</td>\n",
       "      <td>2.0</td>\n",
       "    </tr>\n",
       "    <tr>\n",
       "      <th>199987</th>\n",
       "      <td>12099975</td>\n",
       "      <td>6835494</td>\n",
       "      <td>404202</td>\n",
       "      <td>2018-03-29 00:02:54.000</td>\n",
       "      <td>119266.0</td>\n",
       "      <td>رشت</td>\n",
       "      <td>1.0</td>\n",
       "    </tr>\n",
       "    <tr>\n",
       "      <th>199988</th>\n",
       "      <td>11347656</td>\n",
       "      <td>5882546</td>\n",
       "      <td>556280</td>\n",
       "      <td>2018-02-23 10:44:40.000</td>\n",
       "      <td>4946606.0</td>\n",
       "      <td>هادی شهر</td>\n",
       "      <td>1.0</td>\n",
       "    </tr>\n",
       "    <tr>\n",
       "      <th>199989</th>\n",
       "      <td>8320537</td>\n",
       "      <td>659553</td>\n",
       "      <td>192749</td>\n",
       "      <td>2017-08-24 11:38:29.000</td>\n",
       "      <td>37798.0</td>\n",
       "      <td>تهران</td>\n",
       "      <td>24.0</td>\n",
       "    </tr>\n",
       "  </tbody>\n",
       "</table>\n",
       "<p>199990 rows × 7 columns</p>\n",
       "</div>"
      ],
      "text/plain": [
       "        ID_Order  ID_Customer  ID_Item    DateTime_CartFinalize  \\\n",
       "0        2714054       469662    21386  2015-10-15 08:50:56.000   \n",
       "1       11104039      3063877   248497  2018-02-11 00:29:26.000   \n",
       "2        4228130      3184893    50144  2016-06-14 00:30:08.000   \n",
       "3       22225624      6888562    70208  2018-09-03 14:37:19.000   \n",
       "4        4068771      2533490    67627  2016-05-21 11:51:02.000   \n",
       "...          ...          ...      ...                      ...   \n",
       "199985   6194722       483447     7108  2017-01-27 21:55:48.000   \n",
       "199986  22105540      4343929   738895  2018-08-30 09:42:40.000   \n",
       "199987  12099975      6835494   404202  2018-03-29 00:02:54.000   \n",
       "199988  11347656      5882546   556280  2018-02-23 10:44:40.000   \n",
       "199989   8320537       659553   192749  2017-08-24 11:38:29.000   \n",
       "\n",
       "        Amount_Gross_Order city_name_fa  Quantity_item  \n",
       "0                 597982.0   محمود آباد            1.0  \n",
       "1                 980000.0       خرمدره            1.0  \n",
       "2                 229358.0         قرچک            1.0  \n",
       "3                  16514.0           قم            1.0  \n",
       "4                 133028.0        تهران            1.0  \n",
       "...                    ...          ...            ...  \n",
       "199985           3623853.0        همدان            1.0  \n",
       "199986            192156.0        تهران            2.0  \n",
       "199987            119266.0          رشت            1.0  \n",
       "199988           4946606.0     هادی شهر            1.0  \n",
       "199989             37798.0        تهران           24.0  \n",
       "\n",
       "[199990 rows x 7 columns]"
      ]
     },
     "execution_count": 4,
     "metadata": {},
     "output_type": "execute_result"
    }
   ],
   "source": [
    "df.head(10-20)"
   ]
  },
  {
   "cell_type": "code",
   "execution_count": 5,
   "id": "2c60b431",
   "metadata": {
    "execution": {
     "iopub.execute_input": "2022-09-19T15:30:06.184774Z",
     "iopub.status.busy": "2022-09-19T15:30:06.183233Z",
     "iopub.status.idle": "2022-09-19T15:30:06.231208Z",
     "shell.execute_reply": "2022-09-19T15:30:06.229081Z"
    },
    "papermill": {
     "duration": 0.062473,
     "end_time": "2022-09-19T15:30:06.234905",
     "exception": false,
     "start_time": "2022-09-19T15:30:06.172432",
     "status": "completed"
    },
    "tags": []
   },
   "outputs": [
    {
     "name": "stdout",
     "output_type": "stream",
     "text": [
      "<class 'pandas.core.frame.DataFrame'>\n",
      "RangeIndex: 200000 entries, 0 to 199999\n",
      "Data columns (total 7 columns):\n",
      " #   Column                 Non-Null Count   Dtype  \n",
      "---  ------                 --------------   -----  \n",
      " 0   ID_Order               200000 non-null  int64  \n",
      " 1   ID_Customer            200000 non-null  int64  \n",
      " 2   ID_Item                200000 non-null  int64  \n",
      " 3   DateTime_CartFinalize  200000 non-null  object \n",
      " 4   Amount_Gross_Order     200000 non-null  float64\n",
      " 5   city_name_fa           200000 non-null  object \n",
      " 6   Quantity_item          200000 non-null  float64\n",
      "dtypes: float64(2), int64(3), object(2)\n",
      "memory usage: 10.7+ MB\n"
     ]
    }
   ],
   "source": [
    "df.info()"
   ]
  },
  {
   "cell_type": "code",
   "execution_count": 6,
   "id": "69449966",
   "metadata": {
    "execution": {
     "iopub.execute_input": "2022-09-19T15:30:06.256116Z",
     "iopub.status.busy": "2022-09-19T15:30:06.255659Z",
     "iopub.status.idle": "2022-09-19T15:30:06.331608Z",
     "shell.execute_reply": "2022-09-19T15:30:06.330372Z"
    },
    "papermill": {
     "duration": 0.0896,
     "end_time": "2022-09-19T15:30:06.334295",
     "exception": false,
     "start_time": "2022-09-19T15:30:06.244695",
     "status": "completed"
    },
    "tags": []
   },
   "outputs": [
    {
     "data": {
      "text/html": [
       "<div>\n",
       "<style scoped>\n",
       "    .dataframe tbody tr th:only-of-type {\n",
       "        vertical-align: middle;\n",
       "    }\n",
       "\n",
       "    .dataframe tbody tr th {\n",
       "        vertical-align: top;\n",
       "    }\n",
       "\n",
       "    .dataframe thead th {\n",
       "        text-align: right;\n",
       "    }\n",
       "</style>\n",
       "<table border=\"1\" class=\"dataframe\">\n",
       "  <thead>\n",
       "    <tr style=\"text-align: right;\">\n",
       "      <th></th>\n",
       "      <th>ID_Order</th>\n",
       "      <th>ID_Customer</th>\n",
       "      <th>ID_Item</th>\n",
       "      <th>Amount_Gross_Order</th>\n",
       "      <th>Quantity_item</th>\n",
       "    </tr>\n",
       "  </thead>\n",
       "  <tbody>\n",
       "    <tr>\n",
       "      <th>count</th>\n",
       "      <td>2.000000e+05</td>\n",
       "      <td>2.000000e+05</td>\n",
       "      <td>2.000000e+05</td>\n",
       "      <td>2.000000e+05</td>\n",
       "      <td>200000.000000</td>\n",
       "    </tr>\n",
       "    <tr>\n",
       "      <th>mean</th>\n",
       "      <td>9.871963e+06</td>\n",
       "      <td>2.860671e+06</td>\n",
       "      <td>3.757313e+05</td>\n",
       "      <td>1.458204e+06</td>\n",
       "      <td>1.261225</td>\n",
       "    </tr>\n",
       "    <tr>\n",
       "      <th>std</th>\n",
       "      <td>6.404275e+06</td>\n",
       "      <td>1.921815e+06</td>\n",
       "      <td>3.948462e+05</td>\n",
       "      <td>5.450972e+06</td>\n",
       "      <td>1.801186</td>\n",
       "    </tr>\n",
       "    <tr>\n",
       "      <th>min</th>\n",
       "      <td>1.000411e+06</td>\n",
       "      <td>4.661320e+05</td>\n",
       "      <td>7.600000e+01</td>\n",
       "      <td>0.000000e+00</td>\n",
       "      <td>1.000000</td>\n",
       "    </tr>\n",
       "    <tr>\n",
       "      <th>25%</th>\n",
       "      <td>5.022253e+06</td>\n",
       "      <td>1.021053e+06</td>\n",
       "      <td>8.955725e+04</td>\n",
       "      <td>1.212730e+05</td>\n",
       "      <td>1.000000</td>\n",
       "    </tr>\n",
       "    <tr>\n",
       "      <th>50%</th>\n",
       "      <td>8.591270e+06</td>\n",
       "      <td>2.895180e+06</td>\n",
       "      <td>2.302210e+05</td>\n",
       "      <td>3.211010e+05</td>\n",
       "      <td>1.000000</td>\n",
       "    </tr>\n",
       "    <tr>\n",
       "      <th>75%</th>\n",
       "      <td>1.246037e+07</td>\n",
       "      <td>4.179218e+06</td>\n",
       "      <td>5.192668e+05</td>\n",
       "      <td>1.011032e+06</td>\n",
       "      <td>1.000000</td>\n",
       "    </tr>\n",
       "    <tr>\n",
       "      <th>max</th>\n",
       "      <td>2.484656e+07</td>\n",
       "      <td>7.282118e+06</td>\n",
       "      <td>2.093722e+06</td>\n",
       "      <td>1.530000e+09</td>\n",
       "      <td>500.000000</td>\n",
       "    </tr>\n",
       "  </tbody>\n",
       "</table>\n",
       "</div>"
      ],
      "text/plain": [
       "           ID_Order   ID_Customer       ID_Item  Amount_Gross_Order  \\\n",
       "count  2.000000e+05  2.000000e+05  2.000000e+05        2.000000e+05   \n",
       "mean   9.871963e+06  2.860671e+06  3.757313e+05        1.458204e+06   \n",
       "std    6.404275e+06  1.921815e+06  3.948462e+05        5.450972e+06   \n",
       "min    1.000411e+06  4.661320e+05  7.600000e+01        0.000000e+00   \n",
       "25%    5.022253e+06  1.021053e+06  8.955725e+04        1.212730e+05   \n",
       "50%    8.591270e+06  2.895180e+06  2.302210e+05        3.211010e+05   \n",
       "75%    1.246037e+07  4.179218e+06  5.192668e+05        1.011032e+06   \n",
       "max    2.484656e+07  7.282118e+06  2.093722e+06        1.530000e+09   \n",
       "\n",
       "       Quantity_item  \n",
       "count  200000.000000  \n",
       "mean        1.261225  \n",
       "std         1.801186  \n",
       "min         1.000000  \n",
       "25%         1.000000  \n",
       "50%         1.000000  \n",
       "75%         1.000000  \n",
       "max       500.000000  "
      ]
     },
     "execution_count": 6,
     "metadata": {},
     "output_type": "execute_result"
    }
   ],
   "source": [
    "df.describe()"
   ]
  },
  {
   "cell_type": "code",
   "execution_count": 7,
   "id": "3a1f9c75",
   "metadata": {
    "execution": {
     "iopub.execute_input": "2022-09-19T15:30:06.356538Z",
     "iopub.status.busy": "2022-09-19T15:30:06.356116Z",
     "iopub.status.idle": "2022-09-19T15:30:06.375761Z",
     "shell.execute_reply": "2022-09-19T15:30:06.374634Z"
    },
    "papermill": {
     "duration": 0.033951,
     "end_time": "2022-09-19T15:30:06.378356",
     "exception": false,
     "start_time": "2022-09-19T15:30:06.344405",
     "status": "completed"
    },
    "tags": []
   },
   "outputs": [
    {
     "data": {
      "text/plain": [
       "count    2.000000e+05\n",
       "mean     1.458204e+06\n",
       "std      5.450972e+06\n",
       "min      0.000000e+00\n",
       "25%      1.212730e+05\n",
       "50%      3.211010e+05\n",
       "75%      1.011032e+06\n",
       "max      1.530000e+09\n",
       "Name: Amount_Gross_Order, dtype: float64"
      ]
     },
     "execution_count": 7,
     "metadata": {},
     "output_type": "execute_result"
    }
   ],
   "source": [
    "df['Amount_Gross_Order'].describe()"
   ]
  },
  {
   "cell_type": "markdown",
   "id": "b139cf91",
   "metadata": {
    "papermill": {
     "duration": 0.009593,
     "end_time": "2022-09-19T15:30:06.399053",
     "exception": false,
     "start_time": "2022-09-19T15:30:06.389460",
     "status": "completed"
    },
    "tags": []
   },
   "source": [
    "* We can see that the Minimum value is 0 and Maximum value is 433014, there is huge difference so both mean and median function would not work for replacing null values if we had.\n",
    "* Also, there is a huge difference in the 25th, 50th, and 75th percentiles indicating that if we impute the values for \"Amount_Gross_Order\" column we will most probably introduce bias into the data."
   ]
  },
  {
   "cell_type": "code",
   "execution_count": 8,
   "id": "6f054911",
   "metadata": {
    "execution": {
     "iopub.execute_input": "2022-09-19T15:30:06.420705Z",
     "iopub.status.busy": "2022-09-19T15:30:06.420312Z",
     "iopub.status.idle": "2022-09-19T15:30:06.464466Z",
     "shell.execute_reply": "2022-09-19T15:30:06.463179Z"
    },
    "papermill": {
     "duration": 0.057957,
     "end_time": "2022-09-19T15:30:06.467025",
     "exception": false,
     "start_time": "2022-09-19T15:30:06.409068",
     "status": "completed"
    },
    "tags": []
   },
   "outputs": [
    {
     "data": {
      "text/html": [
       "<div>\n",
       "<style scoped>\n",
       "    .dataframe tbody tr th:only-of-type {\n",
       "        vertical-align: middle;\n",
       "    }\n",
       "\n",
       "    .dataframe tbody tr th {\n",
       "        vertical-align: top;\n",
       "    }\n",
       "\n",
       "    .dataframe thead th {\n",
       "        text-align: right;\n",
       "    }\n",
       "</style>\n",
       "<table border=\"1\" class=\"dataframe\">\n",
       "  <thead>\n",
       "    <tr style=\"text-align: right;\">\n",
       "      <th></th>\n",
       "      <th>Amount_Gross_Order</th>\n",
       "      <th>Quantity_item</th>\n",
       "    </tr>\n",
       "  </thead>\n",
       "  <tbody>\n",
       "    <tr>\n",
       "      <th>count</th>\n",
       "      <td>2.000000e+05</td>\n",
       "      <td>200000.000000</td>\n",
       "    </tr>\n",
       "    <tr>\n",
       "      <th>mean</th>\n",
       "      <td>1.458204e+06</td>\n",
       "      <td>1.261225</td>\n",
       "    </tr>\n",
       "    <tr>\n",
       "      <th>std</th>\n",
       "      <td>5.450972e+06</td>\n",
       "      <td>1.801186</td>\n",
       "    </tr>\n",
       "    <tr>\n",
       "      <th>min</th>\n",
       "      <td>0.000000e+00</td>\n",
       "      <td>1.000000</td>\n",
       "    </tr>\n",
       "    <tr>\n",
       "      <th>25%</th>\n",
       "      <td>1.212730e+05</td>\n",
       "      <td>1.000000</td>\n",
       "    </tr>\n",
       "    <tr>\n",
       "      <th>50%</th>\n",
       "      <td>3.211010e+05</td>\n",
       "      <td>1.000000</td>\n",
       "    </tr>\n",
       "    <tr>\n",
       "      <th>75%</th>\n",
       "      <td>1.011032e+06</td>\n",
       "      <td>1.000000</td>\n",
       "    </tr>\n",
       "    <tr>\n",
       "      <th>max</th>\n",
       "      <td>1.530000e+09</td>\n",
       "      <td>500.000000</td>\n",
       "    </tr>\n",
       "  </tbody>\n",
       "</table>\n",
       "</div>"
      ],
      "text/plain": [
       "       Amount_Gross_Order  Quantity_item\n",
       "count        2.000000e+05  200000.000000\n",
       "mean         1.458204e+06       1.261225\n",
       "std          5.450972e+06       1.801186\n",
       "min          0.000000e+00       1.000000\n",
       "25%          1.212730e+05       1.000000\n",
       "50%          3.211010e+05       1.000000\n",
       "75%          1.011032e+06       1.000000\n",
       "max          1.530000e+09     500.000000"
      ]
     },
     "execution_count": 8,
     "metadata": {},
     "output_type": "execute_result"
    }
   ],
   "source": [
    "df[['Amount_Gross_Order','Quantity_item']].describe()"
   ]
  },
  {
   "cell_type": "code",
   "execution_count": 9,
   "id": "81d07258",
   "metadata": {
    "execution": {
     "iopub.execute_input": "2022-09-19T15:30:06.489387Z",
     "iopub.status.busy": "2022-09-19T15:30:06.488986Z",
     "iopub.status.idle": "2022-09-19T15:30:06.497233Z",
     "shell.execute_reply": "2022-09-19T15:30:06.496256Z"
    },
    "papermill": {
     "duration": 0.022075,
     "end_time": "2022-09-19T15:30:06.499595",
     "exception": false,
     "start_time": "2022-09-19T15:30:06.477520",
     "status": "completed"
    },
    "tags": []
   },
   "outputs": [
    {
     "data": {
      "text/plain": [
       "1458204.043815"
      ]
     },
     "execution_count": 9,
     "metadata": {},
     "output_type": "execute_result"
    }
   ],
   "source": [
    "#check the mean value for 'Amount_Gross_Order' column:\n",
    "df['Amount_Gross_Order'].mean()"
   ]
  },
  {
   "cell_type": "markdown",
   "id": "94267317",
   "metadata": {
    "papermill": {
     "duration": 0.010619,
     "end_time": "2022-09-19T15:30:06.520972",
     "exception": false,
     "start_time": "2022-09-19T15:30:06.510353",
     "status": "completed"
    },
    "tags": []
   },
   "source": [
    "So the average amount of gross order was:1458204.043815 tomans(rials)"
   ]
  },
  {
   "cell_type": "code",
   "execution_count": 10,
   "id": "91da912f",
   "metadata": {
    "execution": {
     "iopub.execute_input": "2022-09-19T15:30:06.543740Z",
     "iopub.status.busy": "2022-09-19T15:30:06.543354Z",
     "iopub.status.idle": "2022-09-19T15:30:06.575800Z",
     "shell.execute_reply": "2022-09-19T15:30:06.574155Z"
    },
    "papermill": {
     "duration": 0.047676,
     "end_time": "2022-09-19T15:30:06.579001",
     "exception": false,
     "start_time": "2022-09-19T15:30:06.531325",
     "status": "completed"
    },
    "tags": []
   },
   "outputs": [
    {
     "name": "stdout",
     "output_type": "stream",
     "text": [
      "<class 'pandas.core.frame.DataFrame'>\n",
      "RangeIndex: 200000 entries, 0 to 199999\n",
      "Data columns (total 7 columns):\n",
      " #   Column                 Non-Null Count   Dtype  \n",
      "---  ------                 --------------   -----  \n",
      " 0   ID_Order               200000 non-null  int64  \n",
      " 1   ID_Customer            200000 non-null  int64  \n",
      " 2   ID_Item                200000 non-null  int64  \n",
      " 3   DateTime_CartFinalize  200000 non-null  object \n",
      " 4   Amount_Gross_Order     200000 non-null  float64\n",
      " 5   city_name_fa           200000 non-null  object \n",
      " 6   Quantity_item          200000 non-null  float64\n",
      "dtypes: float64(2), int64(3), object(2)\n",
      "memory usage: 10.7+ MB\n"
     ]
    }
   ],
   "source": [
    "df.info()"
   ]
  },
  {
   "cell_type": "markdown",
   "id": "f695ee18",
   "metadata": {
    "papermill": {
     "duration": 0.010784,
     "end_time": "2022-09-19T15:30:06.600736",
     "exception": false,
     "start_time": "2022-09-19T15:30:06.589952",
     "status": "completed"
    },
    "tags": []
   },
   "source": [
    "# Checking missing values"
   ]
  },
  {
   "cell_type": "code",
   "execution_count": 11,
   "id": "cbdbd345",
   "metadata": {
    "execution": {
     "iopub.execute_input": "2022-09-19T15:30:06.625112Z",
     "iopub.status.busy": "2022-09-19T15:30:06.624680Z",
     "iopub.status.idle": "2022-09-19T15:30:06.652403Z",
     "shell.execute_reply": "2022-09-19T15:30:06.651194Z"
    },
    "papermill": {
     "duration": 0.043602,
     "end_time": "2022-09-19T15:30:06.654835",
     "exception": false,
     "start_time": "2022-09-19T15:30:06.611233",
     "status": "completed"
    },
    "tags": []
   },
   "outputs": [
    {
     "data": {
      "text/plain": [
       "0"
      ]
     },
     "execution_count": 11,
     "metadata": {},
     "output_type": "execute_result"
    }
   ],
   "source": [
    "# lets first check if there is any null value present in the data\n",
    "df.isnull().sum().sum()"
   ]
  },
  {
   "cell_type": "code",
   "execution_count": 12,
   "id": "9f35e770",
   "metadata": {
    "execution": {
     "iopub.execute_input": "2022-09-19T15:30:06.678805Z",
     "iopub.status.busy": "2022-09-19T15:30:06.678400Z",
     "iopub.status.idle": "2022-09-19T15:30:06.707691Z",
     "shell.execute_reply": "2022-09-19T15:30:06.706611Z"
    },
    "papermill": {
     "duration": 0.044446,
     "end_time": "2022-09-19T15:30:06.710627",
     "exception": false,
     "start_time": "2022-09-19T15:30:06.666181",
     "status": "completed"
    },
    "tags": []
   },
   "outputs": [
    {
     "data": {
      "text/plain": [
       "ID_Order                 0\n",
       "ID_Customer              0\n",
       "ID_Item                  0\n",
       "DateTime_CartFinalize    0\n",
       "Amount_Gross_Order       0\n",
       "city_name_fa             0\n",
       "Quantity_item            0\n",
       "dtype: int64"
      ]
     },
     "execution_count": 12,
     "metadata": {},
     "output_type": "execute_result"
    }
   ],
   "source": [
    "# lets check the number of missing values in the dataset\n",
    "# we are check the missing values in the context of columns\n",
    "df.isnull().sum()"
   ]
  },
  {
   "cell_type": "code",
   "execution_count": 13,
   "id": "5b678ccd",
   "metadata": {
    "execution": {
     "iopub.execute_input": "2022-09-19T15:30:06.734940Z",
     "iopub.status.busy": "2022-09-19T15:30:06.734503Z",
     "iopub.status.idle": "2022-09-19T15:30:06.794469Z",
     "shell.execute_reply": "2022-09-19T15:30:06.793234Z"
    },
    "papermill": {
     "duration": 0.074436,
     "end_time": "2022-09-19T15:30:06.796965",
     "exception": false,
     "start_time": "2022-09-19T15:30:06.722529",
     "status": "completed"
    },
    "tags": []
   },
   "outputs": [
    {
     "data": {
      "text/html": [
       "<div>\n",
       "<style scoped>\n",
       "    .dataframe tbody tr th:only-of-type {\n",
       "        vertical-align: middle;\n",
       "    }\n",
       "\n",
       "    .dataframe tbody tr th {\n",
       "        vertical-align: top;\n",
       "    }\n",
       "\n",
       "    .dataframe thead th {\n",
       "        text-align: right;\n",
       "    }\n",
       "</style>\n",
       "<table border=\"1\" class=\"dataframe\">\n",
       "  <thead>\n",
       "    <tr style=\"text-align: right;\">\n",
       "      <th></th>\n",
       "      <th>ID_Order</th>\n",
       "      <th>ID_Customer</th>\n",
       "      <th>ID_Item</th>\n",
       "      <th>DateTime_CartFinalize</th>\n",
       "      <th>Amount_Gross_Order</th>\n",
       "      <th>city_name_fa</th>\n",
       "      <th>Quantity_item</th>\n",
       "    </tr>\n",
       "  </thead>\n",
       "  <tbody>\n",
       "    <tr>\n",
       "      <th>0</th>\n",
       "      <td>2714054</td>\n",
       "      <td>469662</td>\n",
       "      <td>21386</td>\n",
       "      <td>2015-10-15 08:50:56.000</td>\n",
       "      <td>597982.0</td>\n",
       "      <td>محمود آباد</td>\n",
       "      <td>1.0</td>\n",
       "    </tr>\n",
       "    <tr>\n",
       "      <th>1</th>\n",
       "      <td>11104039</td>\n",
       "      <td>3063877</td>\n",
       "      <td>248497</td>\n",
       "      <td>2018-02-11 00:29:26.000</td>\n",
       "      <td>980000.0</td>\n",
       "      <td>خرمدره</td>\n",
       "      <td>1.0</td>\n",
       "    </tr>\n",
       "    <tr>\n",
       "      <th>2</th>\n",
       "      <td>4228130</td>\n",
       "      <td>3184893</td>\n",
       "      <td>50144</td>\n",
       "      <td>2016-06-14 00:30:08.000</td>\n",
       "      <td>229358.0</td>\n",
       "      <td>قرچک</td>\n",
       "      <td>1.0</td>\n",
       "    </tr>\n",
       "    <tr>\n",
       "      <th>3</th>\n",
       "      <td>22225624</td>\n",
       "      <td>6888562</td>\n",
       "      <td>70208</td>\n",
       "      <td>2018-09-03 14:37:19.000</td>\n",
       "      <td>16514.0</td>\n",
       "      <td>قم</td>\n",
       "      <td>1.0</td>\n",
       "    </tr>\n",
       "    <tr>\n",
       "      <th>4</th>\n",
       "      <td>4068771</td>\n",
       "      <td>2533490</td>\n",
       "      <td>67627</td>\n",
       "      <td>2016-05-21 11:51:02.000</td>\n",
       "      <td>133028.0</td>\n",
       "      <td>تهران</td>\n",
       "      <td>1.0</td>\n",
       "    </tr>\n",
       "    <tr>\n",
       "      <th>...</th>\n",
       "      <td>...</td>\n",
       "      <td>...</td>\n",
       "      <td>...</td>\n",
       "      <td>...</td>\n",
       "      <td>...</td>\n",
       "      <td>...</td>\n",
       "      <td>...</td>\n",
       "    </tr>\n",
       "    <tr>\n",
       "      <th>199995</th>\n",
       "      <td>12172771</td>\n",
       "      <td>4403268</td>\n",
       "      <td>445940</td>\n",
       "      <td>2018-04-03 12:07:01.000</td>\n",
       "      <td>344037.0</td>\n",
       "      <td>تهران</td>\n",
       "      <td>2.0</td>\n",
       "    </tr>\n",
       "    <tr>\n",
       "      <th>199996</th>\n",
       "      <td>4425393</td>\n",
       "      <td>3745774</td>\n",
       "      <td>131645</td>\n",
       "      <td>2016-07-09 19:14:09.000</td>\n",
       "      <td>600000.0</td>\n",
       "      <td>محمدیه</td>\n",
       "      <td>1.0</td>\n",
       "    </tr>\n",
       "    <tr>\n",
       "      <th>199997</th>\n",
       "      <td>6671889</td>\n",
       "      <td>4845514</td>\n",
       "      <td>215045</td>\n",
       "      <td>2017-03-08 23:47:06.000</td>\n",
       "      <td>450000.0</td>\n",
       "      <td>اصفهان</td>\n",
       "      <td>1.0</td>\n",
       "    </tr>\n",
       "    <tr>\n",
       "      <th>199998</th>\n",
       "      <td>6315995</td>\n",
       "      <td>2541418</td>\n",
       "      <td>264021</td>\n",
       "      <td>2017-02-08 14:59:39.000</td>\n",
       "      <td>193486.0</td>\n",
       "      <td>همدان</td>\n",
       "      <td>1.0</td>\n",
       "    </tr>\n",
       "    <tr>\n",
       "      <th>199999</th>\n",
       "      <td>7584127</td>\n",
       "      <td>1342585</td>\n",
       "      <td>89427</td>\n",
       "      <td>2017-06-17 10:08:06.000</td>\n",
       "      <td>55046.0</td>\n",
       "      <td>بندر انزلی</td>\n",
       "      <td>1.0</td>\n",
       "    </tr>\n",
       "  </tbody>\n",
       "</table>\n",
       "<p>200000 rows × 7 columns</p>\n",
       "</div>"
      ],
      "text/plain": [
       "        ID_Order  ID_Customer  ID_Item    DateTime_CartFinalize  \\\n",
       "0        2714054       469662    21386  2015-10-15 08:50:56.000   \n",
       "1       11104039      3063877   248497  2018-02-11 00:29:26.000   \n",
       "2        4228130      3184893    50144  2016-06-14 00:30:08.000   \n",
       "3       22225624      6888562    70208  2018-09-03 14:37:19.000   \n",
       "4        4068771      2533490    67627  2016-05-21 11:51:02.000   \n",
       "...          ...          ...      ...                      ...   \n",
       "199995  12172771      4403268   445940  2018-04-03 12:07:01.000   \n",
       "199996   4425393      3745774   131645  2016-07-09 19:14:09.000   \n",
       "199997   6671889      4845514   215045  2017-03-08 23:47:06.000   \n",
       "199998   6315995      2541418   264021  2017-02-08 14:59:39.000   \n",
       "199999   7584127      1342585    89427  2017-06-17 10:08:06.000   \n",
       "\n",
       "        Amount_Gross_Order city_name_fa  Quantity_item  \n",
       "0                 597982.0   محمود آباد            1.0  \n",
       "1                 980000.0       خرمدره            1.0  \n",
       "2                 229358.0         قرچک            1.0  \n",
       "3                  16514.0           قم            1.0  \n",
       "4                 133028.0        تهران            1.0  \n",
       "...                    ...          ...            ...  \n",
       "199995            344037.0        تهران            2.0  \n",
       "199996            600000.0       محمدیه            1.0  \n",
       "199997            450000.0       اصفهان            1.0  \n",
       "199998            193486.0        همدان            1.0  \n",
       "199999             55046.0   بندر انزلی            1.0  \n",
       "\n",
       "[200000 rows x 7 columns]"
      ]
     },
     "execution_count": 13,
     "metadata": {},
     "output_type": "execute_result"
    }
   ],
   "source": [
    "#removing missing values\n",
    "#documentation: https://pandas.pydata.org/docs/reference/api/pandas.DataFrame.dropna.html\n",
    "df.dropna()"
   ]
  },
  {
   "cell_type": "code",
   "execution_count": 14,
   "id": "0bcfc152",
   "metadata": {
    "execution": {
     "iopub.execute_input": "2022-09-19T15:30:06.821303Z",
     "iopub.status.busy": "2022-09-19T15:30:06.820872Z",
     "iopub.status.idle": "2022-09-19T15:30:06.855557Z",
     "shell.execute_reply": "2022-09-19T15:30:06.854090Z"
    },
    "papermill": {
     "duration": 0.050212,
     "end_time": "2022-09-19T15:30:06.858419",
     "exception": false,
     "start_time": "2022-09-19T15:30:06.808207",
     "status": "completed"
    },
    "tags": []
   },
   "outputs": [
    {
     "name": "stdout",
     "output_type": "stream",
     "text": [
      "<class 'pandas.core.frame.DataFrame'>\n",
      "RangeIndex: 200000 entries, 0 to 199999\n",
      "Data columns (total 7 columns):\n",
      " #   Column                 Non-Null Count   Dtype  \n",
      "---  ------                 --------------   -----  \n",
      " 0   ID_Order               200000 non-null  int64  \n",
      " 1   ID_Customer            200000 non-null  int64  \n",
      " 2   ID_Item                200000 non-null  int64  \n",
      " 3   DateTime_CartFinalize  200000 non-null  object \n",
      " 4   Amount_Gross_Order     200000 non-null  float64\n",
      " 5   city_name_fa           200000 non-null  object \n",
      " 6   Quantity_item          200000 non-null  float64\n",
      "dtypes: float64(2), int64(3), object(2)\n",
      "memory usage: 10.7+ MB\n"
     ]
    }
   ],
   "source": [
    "#lets check the info again\n",
    "df.info()"
   ]
  },
  {
   "cell_type": "code",
   "execution_count": 15,
   "id": "e6cefa56",
   "metadata": {
    "execution": {
     "iopub.execute_input": "2022-09-19T15:30:06.882947Z",
     "iopub.status.busy": "2022-09-19T15:30:06.882331Z",
     "iopub.status.idle": "2022-09-19T15:30:06.910671Z",
     "shell.execute_reply": "2022-09-19T15:30:06.909373Z"
    },
    "papermill": {
     "duration": 0.044599,
     "end_time": "2022-09-19T15:30:06.914303",
     "exception": false,
     "start_time": "2022-09-19T15:30:06.869704",
     "status": "completed"
    },
    "tags": []
   },
   "outputs": [],
   "source": [
    "#missing values\n",
    "for i in df.columns:\n",
    "    null_rate = df[i].isna().sum() / len(df) * 100 \n",
    "    if null_rate > 0 :\n",
    "        print(\"{} null rate: {}%\".format(i,round(null_rate,2)))"
   ]
  },
  {
   "cell_type": "code",
   "execution_count": 16,
   "id": "e809deb5",
   "metadata": {
    "execution": {
     "iopub.execute_input": "2022-09-19T15:30:06.938839Z",
     "iopub.status.busy": "2022-09-19T15:30:06.938415Z",
     "iopub.status.idle": "2022-09-19T15:30:06.968057Z",
     "shell.execute_reply": "2022-09-19T15:30:06.966056Z"
    },
    "papermill": {
     "duration": 0.04523,
     "end_time": "2022-09-19T15:30:06.970918",
     "exception": false,
     "start_time": "2022-09-19T15:30:06.925688",
     "status": "completed"
    },
    "tags": []
   },
   "outputs": [
    {
     "name": "stdout",
     "output_type": "stream",
     "text": [
      "ID_Order                 0.0\n",
      "ID_Customer              0.0\n",
      "ID_Item                  0.0\n",
      "DateTime_CartFinalize    0.0\n",
      "Amount_Gross_Order       0.0\n",
      "city_name_fa             0.0\n",
      "Quantity_item            0.0\n",
      "dtype: float64\n"
     ]
    }
   ],
   "source": [
    "# percentage of missing values\n",
    "percentage_of_missing_values = round(100*(df.isnull().sum()/len(df.index)), 2)\n",
    "print(percentage_of_missing_values)"
   ]
  },
  {
   "cell_type": "code",
   "execution_count": 17,
   "id": "7696880f",
   "metadata": {
    "execution": {
     "iopub.execute_input": "2022-09-19T15:30:06.996594Z",
     "iopub.status.busy": "2022-09-19T15:30:06.996161Z",
     "iopub.status.idle": "2022-09-19T15:30:07.017871Z",
     "shell.execute_reply": "2022-09-19T15:30:07.016468Z"
    },
    "papermill": {
     "duration": 0.038096,
     "end_time": "2022-09-19T15:30:07.020729",
     "exception": false,
     "start_time": "2022-09-19T15:30:06.982633",
     "status": "completed"
    },
    "tags": []
   },
   "outputs": [
    {
     "data": {
      "text/plain": [
       "تهران         108306\n",
       "مشهد            6024\n",
       "اصفهان          5992\n",
       "کرج             5934\n",
       "اهواز           4313\n",
       "               ...  \n",
       "قلندر آباد         1\n",
       "مشهدریزه           1\n",
       "کاریز              1\n",
       "مجن                1\n",
       "خوزی               1\n",
       "Name: city_name_fa, Length: 906, dtype: int64"
      ]
     },
     "execution_count": 17,
     "metadata": {},
     "output_type": "execute_result"
    }
   ],
   "source": [
    "df['city_name_fa'].value_counts()\n"
   ]
  },
  {
   "cell_type": "code",
   "execution_count": 18,
   "id": "dba4c684",
   "metadata": {
    "execution": {
     "iopub.execute_input": "2022-09-19T15:30:07.047132Z",
     "iopub.status.busy": "2022-09-19T15:30:07.046590Z",
     "iopub.status.idle": "2022-09-19T15:30:07.077577Z",
     "shell.execute_reply": "2022-09-19T15:30:07.076217Z"
    },
    "papermill": {
     "duration": 0.047766,
     "end_time": "2022-09-19T15:30:07.080589",
     "exception": false,
     "start_time": "2022-09-19T15:30:07.032823",
     "status": "completed"
    },
    "tags": []
   },
   "outputs": [],
   "source": [
    "df = df.drop_duplicates('city_name_fa')"
   ]
  },
  {
   "cell_type": "markdown",
   "id": "3ffe2abb",
   "metadata": {
    "papermill": {
     "duration": 0.011106,
     "end_time": "2022-09-19T15:30:07.104639",
     "exception": false,
     "start_time": "2022-09-19T15:30:07.093533",
     "status": "completed"
    },
    "tags": []
   },
   "source": [
    "# Ckecking Outliers"
   ]
  },
  {
   "cell_type": "code",
   "execution_count": 19,
   "id": "23595849",
   "metadata": {
    "execution": {
     "iopub.execute_input": "2022-09-19T15:30:07.129323Z",
     "iopub.status.busy": "2022-09-19T15:30:07.128902Z",
     "iopub.status.idle": "2022-09-19T15:30:07.401364Z",
     "shell.execute_reply": "2022-09-19T15:30:07.400104Z"
    },
    "papermill": {
     "duration": 0.288077,
     "end_time": "2022-09-19T15:30:07.404291",
     "exception": false,
     "start_time": "2022-09-19T15:30:07.116214",
     "status": "completed"
    },
    "tags": []
   },
   "outputs": [
    {
     "name": "stderr",
     "output_type": "stream",
     "text": [
      "/opt/conda/lib/python3.7/site-packages/seaborn/_decorators.py:43: FutureWarning: Pass the following variable as a keyword arg: x. From version 0.12, the only valid positional argument will be `data`, and passing other arguments without an explicit keyword will result in an error or misinterpretation.\n",
      "  FutureWarning\n",
      "/opt/conda/lib/python3.7/site-packages/seaborn/_decorators.py:43: FutureWarning: Pass the following variable as a keyword arg: x. From version 0.12, the only valid positional argument will be `data`, and passing other arguments without an explicit keyword will result in an error or misinterpretation.\n",
      "  FutureWarning\n"
     ]
    },
    {
     "data": {
      "image/png": "[encoded data removed]",
      "text/plain": [
       "<Figure size 1152x288 with 2 Axes>"
      ]
     },
     "metadata": {
      "needs_background": "light"
     },
     "output_type": "display_data"
    }
   ],
   "source": [
    "#checking univariate outliers for int data\n",
    "plt.rcParams['figure.figsize']=(16,4)\n",
    "plt.subplot(1,2,1)\n",
    "sns.boxplot(df['Amount_Gross_Order'])\n",
    "\n",
    "plt.subplot(1,2,2)\n",
    "sns.boxplot(df['Quantity_item'])\n",
    "\n",
    "plt.suptitle(\"Checking for Univariate Outliers\")\n",
    "plt.show()"
   ]
  },
  {
   "cell_type": "markdown",
   "id": "8215e34e",
   "metadata": {
    "papermill": {
     "duration": 0.011727,
     "end_time": "2022-09-19T15:30:07.429751",
     "exception": false,
     "start_time": "2022-09-19T15:30:07.418024",
     "status": "completed"
    },
    "tags": []
   },
   "source": [
    "The results show that **Tehran** had the most orders among other cities. "
   ]
  },
  {
   "cell_type": "code",
   "execution_count": 20,
   "id": "c27e31d7",
   "metadata": {
    "execution": {
     "iopub.execute_input": "2022-09-19T15:30:07.458002Z",
     "iopub.status.busy": "2022-09-19T15:30:07.457565Z",
     "iopub.status.idle": "2022-09-19T15:30:07.798460Z",
     "shell.execute_reply": "2022-09-19T15:30:07.797152Z"
    },
    "papermill": {
     "duration": 0.357572,
     "end_time": "2022-09-19T15:30:07.801119",
     "exception": false,
     "start_time": "2022-09-19T15:30:07.443547",
     "status": "completed"
    },
    "tags": []
   },
   "outputs": [
    {
     "data": {
      "image/png": "[encoded data removed]",
      "text/plain": [
       "<Figure size 1152x288 with 2 Axes>"
      ]
     },
     "metadata": {
      "needs_background": "light"
     },
     "output_type": "display_data"
    }
   ],
   "source": [
    "#Checking for the bivariate outliers wrt Target variable.\n",
    "\n",
    "plt.subplot(1,2,1)\n",
    "sns.scatterplot(y=df['ID_Order'],x=df['Amount_Gross_Order'])\n",
    "\n",
    "plt.subplot(1,2,2)\n",
    "sns.scatterplot(y=df['ID_Order'],x=df['Quantity_item'])\n",
    "\n",
    "\n",
    "plt.suptitle(\"Checking for Bivariate Outliers\")\n",
    "plt.show()"
   ]
  },
  {
   "cell_type": "code",
   "execution_count": 21,
   "id": "5a22000d",
   "metadata": {
    "execution": {
     "iopub.execute_input": "2022-09-19T15:30:07.832048Z",
     "iopub.status.busy": "2022-09-19T15:30:07.831597Z",
     "iopub.status.idle": "2022-09-19T15:30:07.837968Z",
     "shell.execute_reply": "2022-09-19T15:30:07.836674Z"
    },
    "papermill": {
     "duration": 0.025728,
     "end_time": "2022-09-19T15:30:07.840501",
     "exception": false,
     "start_time": "2022-09-19T15:30:07.814773",
     "status": "completed"
    },
    "tags": []
   },
   "outputs": [],
   "source": [
    "#Capping the outliers in the columns having values greater than 50.\n",
    "df['Quantity_item'].values[df['Quantity_item'].values>50]=50\n"
   ]
  },
  {
   "cell_type": "code",
   "execution_count": 22,
   "id": "50ff9ae2",
   "metadata": {
    "execution": {
     "iopub.execute_input": "2022-09-19T15:30:07.868626Z",
     "iopub.status.busy": "2022-09-19T15:30:07.868224Z",
     "iopub.status.idle": "2022-09-19T15:30:07.873967Z",
     "shell.execute_reply": "2022-09-19T15:30:07.872668Z"
    },
    "papermill": {
     "duration": 0.022821,
     "end_time": "2022-09-19T15:30:07.876895",
     "exception": false,
     "start_time": "2022-09-19T15:30:07.854074",
     "status": "completed"
    },
    "tags": []
   },
   "outputs": [],
   "source": [
    "df['Amount_Gross_Order'].values[df['Amount_Gross_Order'].values>200000000]=200000000"
   ]
  },
  {
   "cell_type": "code",
   "execution_count": 23,
   "id": "6d6b86e3",
   "metadata": {
    "execution": {
     "iopub.execute_input": "2022-09-19T15:30:07.905735Z",
     "iopub.status.busy": "2022-09-19T15:30:07.904459Z",
     "iopub.status.idle": "2022-09-19T15:30:07.918600Z",
     "shell.execute_reply": "2022-09-19T15:30:07.917367Z"
    },
    "papermill": {
     "duration": 0.030901,
     "end_time": "2022-09-19T15:30:07.921145",
     "exception": false,
     "start_time": "2022-09-19T15:30:07.890244",
     "status": "completed"
    },
    "tags": []
   },
   "outputs": [
    {
     "data": {
      "text/html": [
       "<div>\n",
       "<style scoped>\n",
       "    .dataframe tbody tr th:only-of-type {\n",
       "        vertical-align: middle;\n",
       "    }\n",
       "\n",
       "    .dataframe tbody tr th {\n",
       "        vertical-align: top;\n",
       "    }\n",
       "\n",
       "    .dataframe thead th {\n",
       "        text-align: right;\n",
       "    }\n",
       "</style>\n",
       "<table border=\"1\" class=\"dataframe\">\n",
       "  <thead>\n",
       "    <tr style=\"text-align: right;\">\n",
       "      <th></th>\n",
       "      <th>ID_Order</th>\n",
       "      <th>ID_Customer</th>\n",
       "      <th>ID_Item</th>\n",
       "      <th>DateTime_CartFinalize</th>\n",
       "      <th>Amount_Gross_Order</th>\n",
       "      <th>city_name_fa</th>\n",
       "      <th>Quantity_item</th>\n",
       "    </tr>\n",
       "  </thead>\n",
       "  <tbody>\n",
       "  </tbody>\n",
       "</table>\n",
       "</div>"
      ],
      "text/plain": [
       "Empty DataFrame\n",
       "Columns: [ID_Order, ID_Customer, ID_Item, DateTime_CartFinalize, Amount_Gross_Order, city_name_fa, Quantity_item]\n",
       "Index: []"
      ]
     },
     "execution_count": 23,
     "metadata": {},
     "output_type": "execute_result"
    }
   ],
   "source": [
    "#Checking if there is still any value greater than 10000 left in the Quantity_item column\n",
    "\n",
    "df[df['Quantity_item']>50]\n",
    "df[df['Amount_Gross_Order']>200000000]\n"
   ]
  },
  {
   "cell_type": "code",
   "execution_count": 24,
   "id": "2fc88023",
   "metadata": {
    "execution": {
     "iopub.execute_input": "2022-09-19T15:30:07.950391Z",
     "iopub.status.busy": "2022-09-19T15:30:07.949988Z",
     "iopub.status.idle": "2022-09-19T15:30:07.958755Z",
     "shell.execute_reply": "2022-09-19T15:30:07.957708Z"
    },
    "papermill": {
     "duration": 0.027079,
     "end_time": "2022-09-19T15:30:07.961561",
     "exception": false,
     "start_time": "2022-09-19T15:30:07.934482",
     "status": "completed"
    },
    "tags": []
   },
   "outputs": [],
   "source": [
    "#Dealing with the bivariate outliers\n",
    "#we delete all the values which are greater than 50 \n",
    "\n",
    "df=df[~(df['Quantity_item']>50)]\n",
    "df=df[~(df['Amount_Gross_Order']>200000000)]"
   ]
  },
  {
   "cell_type": "code",
   "execution_count": 25,
   "id": "0d087a50",
   "metadata": {
    "execution": {
     "iopub.execute_input": "2022-09-19T15:30:07.989036Z",
     "iopub.status.busy": "2022-09-19T15:30:07.988483Z",
     "iopub.status.idle": "2022-09-19T15:30:08.338619Z",
     "shell.execute_reply": "2022-09-19T15:30:08.337307Z"
    },
    "papermill": {
     "duration": 0.367828,
     "end_time": "2022-09-19T15:30:08.342173",
     "exception": false,
     "start_time": "2022-09-19T15:30:07.974345",
     "status": "completed"
    },
    "tags": []
   },
   "outputs": [
    {
     "data": {
      "image/png": "[encoded data removed]",
      "text/plain": [
       "<Figure size 1152x288 with 2 Axes>"
      ]
     },
     "metadata": {
      "needs_background": "light"
     },
     "output_type": "display_data"
    }
   ],
   "source": [
    "#checking again\n",
    "plt.subplot(1,2,1)\n",
    "sns.scatterplot(y=df['ID_Order'],x=df['Amount_Gross_Order'])\n",
    "\n",
    "plt.subplot(1,2,2)\n",
    "sns.scatterplot(y=df['ID_Order'],x=df['Quantity_item'])\n",
    "\n",
    "\n",
    "plt.suptitle(\"Checking for Bivariate Outliers\")\n",
    "plt.show()"
   ]
  },
  {
   "cell_type": "markdown",
   "id": "c71ecf3f",
   "metadata": {
    "papermill": {
     "duration": 0.013229,
     "end_time": "2022-09-19T15:30:08.368991",
     "exception": false,
     "start_time": "2022-09-19T15:30:08.355762",
     "status": "completed"
    },
    "tags": []
   },
   "source": [
    "# Splitting in string data"
   ]
  },
  {
   "cell_type": "code",
   "execution_count": 26,
   "id": "ebce14de",
   "metadata": {
    "execution": {
     "iopub.execute_input": "2022-09-19T15:30:08.398689Z",
     "iopub.status.busy": "2022-09-19T15:30:08.398290Z",
     "iopub.status.idle": "2022-09-19T15:30:08.410794Z",
     "shell.execute_reply": "2022-09-19T15:30:08.409079Z"
    },
    "papermill": {
     "duration": 0.031587,
     "end_time": "2022-09-19T15:30:08.414679",
     "exception": false,
     "start_time": "2022-09-19T15:30:08.383092",
     "status": "completed"
    },
    "tags": []
   },
   "outputs": [
    {
     "data": {
      "text/plain": [
       "0         [2015-10-15, 08:50:56.000]\n",
       "1         [2018-02-11, 00:29:26.000]\n",
       "2         [2016-06-14, 00:30:08.000]\n",
       "3         [2018-09-03, 14:37:19.000]\n",
       "4         [2016-05-21, 11:51:02.000]\n",
       "                     ...            \n",
       "193151    [2018-11-27, 06:51:46.000]\n",
       "193582    [2018-08-11, 01:56:16.000]\n",
       "197923    [2017-10-19, 18:12:49.000]\n",
       "198245    [2016-11-21, 15:18:46.000]\n",
       "199254    [2016-05-06, 14:12:54.000]\n",
       "Name: DateTime_CartFinalize, Length: 906, dtype: object"
      ]
     },
     "execution_count": 26,
     "metadata": {},
     "output_type": "execute_result"
    }
   ],
   "source": [
    "df['DateTime_CartFinalize'].str.split(' ')\n"
   ]
  },
  {
   "cell_type": "code",
   "execution_count": 27,
   "id": "ab946a76",
   "metadata": {
    "execution": {
     "iopub.execute_input": "2022-09-19T15:30:08.444171Z",
     "iopub.status.busy": "2022-09-19T15:30:08.443716Z",
     "iopub.status.idle": "2022-09-19T15:30:08.462754Z",
     "shell.execute_reply": "2022-09-19T15:30:08.461568Z"
    },
    "papermill": {
     "duration": 0.036885,
     "end_time": "2022-09-19T15:30:08.465647",
     "exception": false,
     "start_time": "2022-09-19T15:30:08.428762",
     "status": "completed"
    },
    "tags": []
   },
   "outputs": [
    {
     "data": {
      "text/plain": [
       "2015-10-15 08:50:56.000    1\n",
       "2017-02-20 18:01:50.000    1\n",
       "2018-06-06 15:12:19.000    1\n",
       "2018-11-03 20:05:38.000    1\n",
       "2017-12-09 10:24:47.000    1\n",
       "2016-10-28 20:49:49.000    1\n",
       "2015-02-09 12:03:34.000    1\n",
       "2018-06-13 01:12:54.000    1\n",
       "2015-03-12 18:17:17.000    1\n",
       "2017-09-10 18:56:00.000    1\n",
       "2017-10-23 13:18:13.000    1\n",
       "2017-05-10 17:55:17.000    1\n",
       "2018-09-02 17:51:26.000    1\n",
       "2018-07-21 19:38:05.000    1\n",
       "2018-03-02 20:56:52.000    1\n",
       "2018-11-10 10:45:13.000    1\n",
       "2018-01-25 11:33:57.000    1\n",
       "2017-05-05 10:19:53.000    1\n",
       "2018-10-24 15:28:26.000    1\n",
       "2017-06-22 01:47:15.000    1\n",
       "Name: DateTime_CartFinalize, dtype: int64"
      ]
     },
     "execution_count": 27,
     "metadata": {},
     "output_type": "execute_result"
    }
   ],
   "source": [
    "df = df.explode('DateTime_CartFinalize')\n",
    "pd.set_option('max_rows', 200000)\n",
    "df['DateTime_CartFinalize'].value_counts()[:20]\n",
    "\n"
   ]
  },
  {
   "cell_type": "markdown",
   "id": "5f965072",
   "metadata": {
    "papermill": {
     "duration": 0.012998,
     "end_time": "2022-09-19T15:30:08.492027",
     "exception": false,
     "start_time": "2022-09-19T15:30:08.479029",
     "status": "completed"
    },
    "tags": []
   },
   "source": [
    "Digikiala had the most orders in these times:\n",
    "2017-05-07 16:07:39.000    \n",
    "2016-02-23 09:03:50.000    \n",
    "2016-05-17 17:40:25.000    \n",
    "2016-06-06 02:12:05.000    \n",
    "2016-02-29 13:23:57.000    "
   ]
  },
  {
   "cell_type": "markdown",
   "id": "05209d3b",
   "metadata": {
    "papermill": {
     "duration": 0.012985,
     "end_time": "2022-09-19T15:30:08.518278",
     "exception": false,
     "start_time": "2022-09-19T15:30:08.505293",
     "status": "completed"
    },
    "tags": []
   },
   "source": [
    "# Visuailization "
   ]
  },
  {
   "cell_type": "code",
   "execution_count": 28,
   "id": "3fa1be78",
   "metadata": {
    "execution": {
     "iopub.execute_input": "2022-09-19T15:30:08.546519Z",
     "iopub.status.busy": "2022-09-19T15:30:08.546090Z",
     "iopub.status.idle": "2022-09-19T15:30:08.860783Z",
     "shell.execute_reply": "2022-09-19T15:30:08.859649Z"
    },
    "papermill": {
     "duration": 0.331683,
     "end_time": "2022-09-19T15:30:08.863246",
     "exception": false,
     "start_time": "2022-09-19T15:30:08.531563",
     "status": "completed"
    },
    "tags": []
   },
   "outputs": [
    {
     "name": "stderr",
     "output_type": "stream",
     "text": [
      "/opt/conda/lib/python3.7/site-packages/seaborn/distributions.py:2619: FutureWarning: `distplot` is a deprecated function and will be removed in a future version. Please adapt your code to use either `displot` (a figure-level function with similar flexibility) or `histplot` (an axes-level function for histograms).\n",
      "  warnings.warn(msg, FutureWarning)\n"
     ]
    },
    {
     "data": {
      "image/png": "[encoded data removed]",
      "text/plain": [
       "<Figure size 720x216 with 1 Axes>"
      ]
     },
     "metadata": {},
     "output_type": "display_data"
    }
   ],
   "source": [
    "plt.rcParams['figure.figsize'] = (10, 3)\n",
    "plt.style.use('fivethirtyeight')\n",
    "sns.distplot(df['Amount_Gross_Order'], color = 'black')\n",
    "plt.title('Distribution of Ratings')\n",
    "plt.show()\n"
   ]
  },
  {
   "cell_type": "code",
   "execution_count": 29,
   "id": "615dbf73",
   "metadata": {
    "execution": {
     "iopub.execute_input": "2022-09-19T15:30:08.893078Z",
     "iopub.status.busy": "2022-09-19T15:30:08.892631Z",
     "iopub.status.idle": "2022-09-19T15:30:08.898398Z",
     "shell.execute_reply": "2022-09-19T15:30:08.897008Z"
    },
    "papermill": {
     "duration": 0.023744,
     "end_time": "2022-09-19T15:30:08.901020",
     "exception": false,
     "start_time": "2022-09-19T15:30:08.877276",
     "status": "completed"
    },
    "tags": []
   },
   "outputs": [],
   "source": [
    "#sns.countplot(x='Amount_Gross_Order', data=df)"
   ]
  },
  {
   "cell_type": "code",
   "execution_count": 30,
   "id": "168ea600",
   "metadata": {
    "execution": {
     "iopub.execute_input": "2022-09-19T15:30:08.931174Z",
     "iopub.status.busy": "2022-09-19T15:30:08.929992Z",
     "iopub.status.idle": "2022-09-19T15:30:20.801759Z",
     "shell.execute_reply": "2022-09-19T15:30:20.800219Z"
    },
    "papermill": {
     "duration": 11.890709,
     "end_time": "2022-09-19T15:30:20.805564",
     "exception": false,
     "start_time": "2022-09-19T15:30:08.914855",
     "status": "completed"
    },
    "tags": []
   },
   "outputs": [
    {
     "data": {
      "text/plain": [
       "<seaborn.axisgrid.PairGrid at 0x7fa33ae7d110>"
      ]
     },
     "execution_count": 30,
     "metadata": {},
     "output_type": "execute_result"
    },
    {
     "data": {
      "image/png": "[encoded data removed]",
      "text/plain": [
       "<Figure size 879.575x720 with 20 Axes>"
      ]
     },
     "metadata": {},
     "output_type": "display_data"
    }
   ],
   "source": [
    "\n",
    "sns.pairplot(data = df, hue=\"Amount_Gross_Order\")\n",
    "#sns.pairplot(df['Amount_Gross_Order'], df['ID_Order'], data=df)\n",
    "#sns.barplot(df['ID_Order'])\n",
    "\n"
   ]
  },
  {
   "cell_type": "code",
   "execution_count": 31,
   "id": "995fa96c",
   "metadata": {
    "execution": {
     "iopub.execute_input": "2022-09-19T15:30:20.841784Z",
     "iopub.status.busy": "2022-09-19T15:30:20.841392Z",
     "iopub.status.idle": "2022-09-19T15:30:21.983101Z",
     "shell.execute_reply": "2022-09-19T15:30:21.982111Z"
    },
    "papermill": {
     "duration": 1.162966,
     "end_time": "2022-09-19T15:30:21.985733",
     "exception": false,
     "start_time": "2022-09-19T15:30:20.822767",
     "status": "completed"
    },
    "tags": []
   },
   "outputs": [
    {
     "data": {
      "text/html": [
       "        <script type=\"text/javascript\">\n",
       "        window.PlotlyConfig = {MathJaxConfig: 'local'};\n",
       "        if (window.MathJax && window.MathJax.Hub && window.MathJax.Hub.Config) {window.MathJax.Hub.Config({SVG: {font: \"STIX-Web\"}});}\n",
       "        if (typeof require !== 'undefined') {\n",
       "        require.undef(\"plotly\");\n",
       "        requirejs.config({\n",
       "            paths: {\n",
       "                'plotly': ['https://cdn.plot.ly/plotly-2.14.0.min']\n",
       "            }\n",
       "        });\n",
       "        require(['plotly'], function(Plotly) {\n",
       "            window._Plotly = Plotly;\n",
       "        });\n",
       "        }\n",
       "        </script>\n",
       "        "
      ]
     },
     "metadata": {},
     "output_type": "display_data"
    },
    {
     "data": {
      "text/html": [
       "<div>                            <div id=\"c0795965-b39c-44f9-933f-9cf0f150a65b\" class=\"plotly-graph-div\" style=\"height:525px; width:100%;\"></div>            <script type=\"text/javascript\">                require([\"plotly\"], function(Plotly) {                    window.PLOTLYENV=window.PLOTLYENV || {};                                    if (document.getElementById(\"c0795965-b39c-44f9-933f-9cf0f150a65b\")) {                    Plotly.newPlot(                        \"c0795965-b39c-44f9-933f-9cf0f150a65b\",                        [{\"alignmentgroup\":\"True\",\"hovertemplate\":\"city_name_fa=%{x}<br>ID_Order=%{y}<extra></extra>\",\"legendgroup\":\"\",\"marker\":{\"color\":\"#636efa\",\"pattern\":{\"shape\":\"\"}},\"name\":\"\",\"offsetgroup\":\"\",\"orientation\":\"v\",\"showlegend\":false,\"textposition\":\"auto\",\"x\":[\"محمود آباد\",\"خرمدره\",\"قرچک\",\"قم\",\"تهران\",\"مشهد\",\"اصفهان\",\"رشت\",\"خرمشهر\",\"لالی\",\"تنکابن\",\"کرج\",\"اهواز\",\"شاهین شهر\",\"زنجان\",\"ساری\",\"کلور\",\"هچیرود\",\"مبارکه\",\"آبادان\",\"کیش\",\"بندر انزلی\",\"بروجرد\",\"قائم شهر\",\"آستانه اشرفیه\",\"شیراز\",\"آمل\",\"کرمانشاه\",\"بوشهر\",\"قزوین\",\"بندر عباس\",\"نیشابور\",\"تبریز\",\"اراک\",\"ایلام\",\"لاهیجان\",\"علی آباد\",\"یزد\",\"زابل\",\"شهرکرد\",\"رویدر\",\"کبودر آهنگ\",\"تاکستان\",\"هشتگرد\",\"گرگان\",\"خمام\",\"ورزنه\",\"گنبدکاووس\",\"همدان\",\"زرند\",\"نوشهر\",\"هادیشهر\",\"شهریار\",\"فلاورجان\",\"کازرون\",\"دیواندره\",\"خمین\",\"صغاد\",\"شهر جدید صدرا\",\"کرمان\",\"بیرجند\",\"آستارا\",\"اردبیل\",\"دزفول\",\"نجف آباد\",\"دورود\",\"سمنان\",\"ساوه\",\"خرم آباد\",\"سربیشه\",\"سبزوار\",\"سیاهکل\",\"فومن\",\"اسلام آباد غرب\",\"اسلامشهر\",\"سردشت\",\"جیرفت\",\"فردیس\",\"شبستر\",\"لنگرود\",\"گرمدره\",\"طرقبه\",\"شوش\",\"آشخانه\",\"ارزوئیه\",\"میاندوآب\",\"الیگودرز\",\"تربت جام\",\"کوهدشت\",\"یاسوج\",\"بستک\",\"درگهان\",\"تویسرکان\",\"زاهدان\",\"ارومیه\",\"تفت\",\"گلپایگان\",\"لار\",\"بهبهان\",\"پاکدشت\",\"حمیل\",\"الوند\",\"لالجین\",\"ابهر\",\"سر پل ذهاب\",\"بهشهر\",\"چالوس\",\"اردکان\",\"منوجان\",\"پردیس\",\"قشم\",\"مراغه\",\"دوگنبدان\",\"شاهرود\",\"رودسر\",\"بم\",\"صومعه سرا\",\"ملارد\",\"لشت نشاء\",\"بندر ترکمن\",\"نمین\",\"دماوند\",\"شادگان\",\"محمدیه\",\"مرند\",\"مشکین دشت\",\"سنندج\",\"کمال شهر\",\"نی ریز\",\"نور\",\"راسک\",\"عباس آباد\",\"کلاچای\",\"بابلسر\",\"رفسنجان\",\"قدس\",\"شیروان\",\"خمینی شهر\",\"بجنورد\",\"رویان\",\"سراب\",\"محلات\",\"امیدیه\",\"بابل\",\"مهاباد\",\"دامغان\",\"کاشان\",\"بومهن\",\"گیلانغرب\",\"کرد کوی\",\"بندر ماهشهر\",\"تربت حیدریه\",\"شهر جدید هشتگرد\",\"کلاله\",\"اندیشه\",\"ملایر\",\"بندر لنگه\",\"رامسر\",\"چادگان\",\"اقلید\",\"محمد شهر\",\"سیرجان\",\"شهر جدید سهند\",\"مس سرچشمه\",\"هیدج\",\"چهار برج\",\"سقز\",\"بندر کنگان\",\"بانه\",\"مراوه تپه\",\"سریش آباد\",\"بندر گناوه\",\"پیشوا\",\"کلیبر\",\"سپید دشت\",\"فولاد شهر\",\"رضوانشهر\",\"پلدختر\",\"بیجار\",\"سوسنگرد\",\"فسا\",\"ملکان\",\"میبد\",\"نسیم شهر\",\"قمصر\",\"خلخال\",\"دهبارز\",\"درگز\",\"ماکو\",\"بافت\",\"پارسیان\",\"کهنوج\",\"قیر\",\"خنداب\",\"شهر بابک\",\"هشتپر\",\"سراوان\",\"اشکذر\",\"سلمان شهر\",\"گرمی\",\"کوار\",\"آذرشهر\",\"مسجد سلیمان\",\"بیله سوار\",\"گلدشت\",\"جهرم\",\"دهاقان\",\"اهر\",\"عجب شیر\",\"مهران\",\"ایذه\",\"کوزه کنان\",\"خورموج\",\"صحنه\",\"جویبار\",\"خورزوق\",\"میناب\",\"اوز\",\"کلارآباد\",\"گلستان\",\"ایج\",\"آباده\",\"ورامین\",\"طالقان\",\"خوش رودپی\",\"بروجن\",\"گرمسار\",\"فریدونکنار\",\"عسلویه\",\"کاشمر\",\"کنارک\",\"رامهرمز\",\"باخرز\",\"نکا\",\"رباط کریم\",\"گراش\",\"سلماس\",\"جم\",\"نشتارود\",\"مامونیه\",\"آبیک\",\"رحیم آباد\",\"شهر جدید پرند\",\"فرخ شهر\",\"خارک\",\"ری\",\"مریوان\",\"بندر دیر\",\"استهبان\",\"شهرضا\",\"بشرویه\",\"شهر جدید مهاجران\",\"ممقان\",\"درچه پیاز\",\"املش\",\"تودشک\",\"آران و بیدگل\",\"مرودشت\",\"اندیمشک\",\"آبش احمد\",\"سنقر\",\"بادرود\",\"سرابله\",\"چهاردانگه\",\"صالحیه\",\"لامرد\",\"نهاوند\",\"بندر امام خمینی\",\"بردسیر\",\"قوچان\",\"خوانسار\",\"بردسکن\",\"شوشتر\",\"گناباد\",\"زاویه\",\"دره شهر\",\"پارس آباد\",\"آستانه\",\"فشم\",\"ایوان\",\"سروستان\",\"جاجرم\",\"بافق\",\"میانه\",\"بناب\",\"چوبر\",\"ورنامخواست\",\"هریس\",\"دهدز\",\"سی سخت\",\"کهک\",\"دیزیچه\",\"جعفر آباد\",\"زرین شهر\",\"ایرانشهر\",\"کیاشهر\",\"قیدار\",\"جالق\",\"کیلان\",\"حسن آباد\",\"دلیجان\",\"اسفراین\",\"خور\",\"نهبندان\",\"فامنین\",\"اردستان\",\"هشترود\",\"آزاد شهر\",\"نظر آباد\",\"زارچ\",\"شفت\",\"نقده\",\"رودهن\",\"سردرود\",\"فریمان\",\"گلوگاه\",\"مهر\",\"دهلران\",\"نوش آباد\",\"زیرآب\",\"صفا شهر\",\"قروه\",\"بوکان\",\"سرایان\",\"بندر دیلم\",\"سورک\",\"شازند\",\"چاه بهار\",\"خنجین\",\"سمیرم\",\"بهارستان\",\"آشتیان\",\"تکاب\",\"مهریز\",\"هرسین\",\"سرخرود\",\"شاهین دژ\",\"بهنمیر\",\"فیروزکوه\",\"چناران\",\"خاش\",\"وایقان\",\"کوشکنار\",\"ماسال\",\"شریف آباد\",\"امیر کلا\",\"کوهبنان\",\"اهرم\",\"لوشان\",\"کاکی\",\"بوانات\",\"نورآباد\",\"گالیکش\",\"کلاردشت\",\"ابریشم\",\"مشگین شهر\",\"خوی\",\"میامی\",\"ابرکوه\",\"سرباز\",\"کوچصفهان\",\"بن\",\"سامان\",\"گودین\",\"چابکسر\",\"نیک شهر\",\"زید آباد\",\"هفشجان\",\"دهدشت\",\"خمیر\",\"عشق آباد\",\"کهریزسنگ\",\"سعادت شهر\",\"نطنز\",\"بدره\",\"تفرش\",\"جلفا\",\"نیمور\",\"قهدریجان\",\"توحید\",\"سرخس\",\"مزرعه\",\"گهواره\",\"ماهدشت\",\"بیضا\",\"کنگ\",\"داراب\",\"آبدانان\",\"شلمزار\",\"کمیجان\",\"آق قلا\",\"باقرشهر\",\"چمران\",\"لطیفی\",\"شاندیز\",\"قصر شیرین\",\"لنده\",\"بازرگان\",\"شال\",\"طبس\",\"ازنا\",\"دمق\",\"دهگلان\",\"مینودشت\",\"فیروزآباد\",\"بنارویه\",\"خمارلو\",\"بردستان\",\"برازجان\",\"نصرآباد\",\"طاقانک\",\"جوانرود\",\"تایباد\",\"جغتای\",\"زرقان\",\"داران\",\"آب بر\",\"رستم آباد\",\"روانسر\",\"میمه\",\"نائین\",\"ایوانکی\",\"بسطام\",\"هرات\",\"چمستان\",\"تاتار علیا\",\"منجیل\",\"لواسان\",\"پره سر\",\"فاضل آباد\",\"سیمین شهر\",\"ایزد شهر\",\"ابوحمیظه\",\"کوت عبدالله\",\"قائن\",\"کنگاور\",\"الشتر\",\"فیروزان\",\"سیه چشمه\",\"گندمان\",\"جعفریه\",\"لردگان\",\"اسدیه\",\"بیارجمند\",\"پیرانشهر\",\"دهرم\",\"قهجاورستان\",\"فارسان\",\"کلات\",\"باغ بهادران\",\"راور\",\"قصر قند\",\"خشکرود\",\"خواف\",\"اسفدن\",\"نرماشیر\",\"رودبار\",\"کیاسر\",\"شهمیرزاد\",\"کهریزک\",\"سرخه\",\"ریوش\",\"صالح آباد\",\"دندی\",\"محمد آباد\",\"بندر گز\",\"اسالم\",\"فردوس\",\"دلند\",\"اسکو\",\"فریدونشهر\",\"شوط\",\"آبگرم\",\"کرکوند\",\"جیرنده\",\"میلاجرد\",\"نقاب\",\"سوق\",\"چاف و چمخاله\",\"بندر جاسک\",\"گتوند\",\"هوراند\",\"فیض آباد\",\"وراوی\",\"پیر بکران\",\"نوده خاندوز\",\"دولت آباد\",\"بهار\",\"بوئین زهرا\",\"باغستان\",\"صفادشت\",\"گراب\",\"کشکوئیه\",\"ایلخچی\",\"بیدخت\",\"کوهی خیل\",\"خلیل آباد\",\"علویچه\",\"نقنه\",\"آبپخش\",\"پل سفید\",\"زهک\",\"دستجرد\",\"بردخون\",\"سورشجان\",\"کشکسرای\",\"زاینده رود\",\"اسد آباد\",\"راین\",\"شیبان\",\"هویزه\",\"وزوان\",\"رابر\",\"گلشهر\",\"فراشبند\",\"نوخندان\",\"بستان آباد\",\"رزن\",\"چرام\",\"صائین قلعه\",\"گز برخوار\",\"شیرگاه\",\"ضیاء آباد\",\"رامیان\",\"ترکالکی\",\"بنت\",\"شبانکاره\",\"سنگر\",\"فرادنبه\",\"خومه زار\",\"تسوج\",\"کامیاران\",\"کومله\",\"حاجی آباد\",\"لوندویل\",\"مروست\",\"قروه در جزین\",\"سیراف\",\"رشتخوار\",\"خشت\",\"کرند غرب\",\"بلده\",\"مهرستان\",\"موسیان\",\"باغ ملک\",\"ویس\",\"ملاثانی\",\"خان ببین\",\"شاهدیه\",\"رونیز\",\"ابوموسی\",\"زواره\",\"شاهدشهر\",\"اشنویه\",\"ایمانشهر\",\"پلدشت\",\"هندیجان\",\"سه قلعه\",\"بانوره\",\"رستمکلا\",\"درق\",\"گله دار\",\"مهدی شهر\",\"خضری دشت بیاض\",\"طبس مسینا\",\"دستگرد\",\"شیرود\",\"قره ضیاء الدین\",\"علویجه\",\"ماهان\",\"هشتبندی\",\"فردوسیه\",\"ساروق\",\"رضی\",\"اقبالیه\",\"سوران\",\"لیکک\",\"سرخنکلاته\",\"کتالم و سادات شهر\",\"زرنق\",\"سده لنجان\",\"خنج\",\"خشکبیجار\",\"تیران\",\"احمد آباد\",\"نخل تقی\",\"انار\",\"ابوزید آباد\",\"امیریه\",\"رینه\",\"هادی شهر\",\"نوسود\",\"انارستان\",\"ویسیان\",\"سیرکان\",\"کوهپایه\",\"منظریه\",\"سندرک\",\"لولمان\",\"بلداجی\",\"گیوی\",\"خسروشاه\",\"اشتهارد\",\"دوست محمد\",\"پاریز\",\"قادرآباد\",\"بلاوه\",\"ورزقان\",\"گرمه\",\"چمگردان\",\"فاروج\",\"زیباشهر\",\"پرند\",\"کوهسار\",\"کوخردهرنگ\",\"راز\",\"رامجرد\",\"آجین\",\"شلمان\",\"ترکمانچای\",\"اصلاندوز\",\"نصیرشهر\",\"اردل\",\"زنگی آباد\",\"کاریز\",\"بندر ریگ\",\"نودشه\",\"چهارباغ\",\"خوسف\",\"اسلام آباد\",\"نگور\",\"سرعین\",\"دیلمان\",\"مال خلیفه\",\"جونقان\",\"واجارگاه\",\"گوگان\",\"مصیری\",\"آرادان\",\"خلیل شهر\",\"مریانج\",\"پاوه\",\"بوئین میاندشت\",\"سیریک\",\"تازیان پائین\",\"ارکواز\",\"صبا شهر\",\"شهداد\",\"دلوار\",\"قلعه گنج\",\"انارک\",\"آغاجاری\",\"خاکعلی\",\"بهاباد\",\"چقابل\",\"بیکاه\",\"تشان\",\"دهق\",\"اشکنان\",\"سماله\",\"عماد ده\",\"چارک\",\"زیارتعلی\",\"مارگون\",\"طالخونچه\",\"قلعه تل\",\"هشتجین\",\"سنگان\",\"ارطه\",\"فاریاب\",\"جنت مکان\",\"آوج\",\"زرین رود\",\"سودجان\",\"کیان\",\"درود\",\"زازران\",\"کیاکلا\",\"بیدستان\",\"گوگد\",\"بجستان\",\"لومار\",\"جنت شهر\",\"غرق آباد\",\"فرمهین\",\"صوفیان\",\"ارسنجان\",\"سامن\",\"جناح\",\"علی اکبر\",\"چغادک\",\"روداب\",\"زرین آباد\",\"مود\",\"آوا\",\"بفروئیه\",\"هرند\",\"آبعلی\",\"اسپکه\",\"جاورسیان\",\"زهان\",\"فرون آباد\",\"گلسار\",\"فرخی\",\"فنوج\",\"ندوشن\",\"پارچین\",\"دانسفهان\",\"محمد یار\",\"سگزی\",\"شوسف\",\"رامشیر\",\"تازه شهر\",\"لیسار\",\"خامنه\",\"زرنه\",\"الوان\",\"خاتون آباد\",\"احمدابادمستوفی\",\"میانرود\",\"مرجقل\",\"بیستون\",\"کلیشاد و سودرجان\",\"شنبه\",\"تازه آباد\",\"ماه نشان\",\"کارچان\",\"شمشک\",\"بخشایش\",\"وردنجان\",\"وحدتیه\",\"آسمان آباد\",\"رازمیان\",\"گل تپه\",\"کارزین\",\"عقدا\",\"نیک آباد\",\"نگار\",\"دشتک\",\"سیه رود\",\"هفتگل\",\"احمدآباد صولت\",\"پهله\",\"مورچه خورت\",\"آبی بیگلو\",\"جویم\",\"چلیچه\",\"ربط\",\"برزک\",\"فهرج\",\"پاتاوه\",\"سلطانیه\",\"شادمهر\",\"دامنه\",\"دستک\",\"تجریش\",\"باب انار\",\"تنکمان\",\"قهاوند\",\"گمیش تپه\",\"مرزن آباد\",\"رانکوه\",\"شریفیه\",\"بروات\",\"چابهار\",\"کیانشهر\",\"قطرویه\",\"دلگشا\",\"بیرم\",\"سلفچگان\",\"گلباف\",\"ارداق\",\"سیردان\",\"پرندک\",\"قلندر آباد\",\"کنار تخته\",\"یاسوکند\",\"مشهدریزه\",\"حمیدیه\",\"سراب دوره\",\"گوراب زرمیخ\",\"مجن\",\"بنجار\",\"قائمیه\",\"حویق\",\"نوکنده\",\"سجاس\",\"سراب ذهاب\",\"سعد آباد\",\"نراق\",\"دابودشت\",\"جوپار\",\"جلین\",\"سفید شهر\",\"نوشین\",\"آبسرد\",\"باینگان\",\"بمپور\",\"بلبان آباد\",\"ریز\",\"قره آغاج\",\"هندودر\",\"دستناء\",\"ارسک\",\"آباده طشک\",\"ایور\",\"محمود آباد نمونه\",\"قطب آباد\",\"پیشین\",\"شند آباد\",\"جواد آباد\",\"خرامه\",\"گلمورتی\",\"قدمگاه\",\"شرفخانه\",\"گوهران\",\"چلگرد\",\"باسمنج\",\"نیمبلوک\",\"حلب\",\"بهمن\",\"لمزان\",\"دیهوک\",\"بهرمان\",\"جنگل\",\"خوراسگان\",\"حبیب آباد\",\"آلونی\",\"وحیدیه\",\"آقکند\",\"امین شهر\",\"بنک\",\"زرگر محله\",\"مرزیکلا\",\"کوهستک\",\"محی آباد\",\"ریجاب\",\"خرمدشت\",\"صفی آباد\",\"زنوز\",\"میمند\",\"گرماب\",\"امام حسن\",\"قنوات\",\"گنبکی\",\"شباب\",\"سرو آباد\",\"شیرین سو\",\"قوشچی\",\"اسیر\",\"آزادی\",\"نیر\",\"علامرودشت\",\"عنبران\",\"خرو\",\"گتاب\",\"تیکمه داش\",\"باشت\",\"یامچی\",\"ناغان\",\"نودان\",\"بهاران شهر\",\"شهر زو\",\"سگز آباد\",\"کشاورز\",\"سراوان-گیلان\",\"مهربان\",\"اسلامیه\",\"عنبر آباد\",\"سراب باغ\",\"گردکشانه\",\"صالح شهر\",\"کوهین\",\"خضر آباد\",\"آبدان\",\"ششده\",\"حمیدیا\",\"کاخک\",\"کمشجه\",\"بازار جمعه\",\"ترک\",\"فدامی\",\"داریان\",\"داود آباد\",\"اروند کنار\",\"خاوران\",\"موچش\",\"برزول\",\"نظرکهریزی\",\"چرمهین\",\"مادرسلیمان\",\"زاهد شهر\",\"سده\",\"کلمه\",\"معمولان\",\"ادیمی\",\"آبژدان\",\"ازناو\",\"قلعه خواجه\",\"ماکلوان\",\"منصوریه\",\"سبزدشت\",\"حسینیه\",\"اختیار آباد\",\"گرگاب\",\"خوزی\"],\"xaxis\":\"x\",\"y\":[2714054,11104039,4228130,22225624,4068771,11479246,8267421,11588978,10740652,5623610,9934875,23693949,11140715,7926701,6049218,23241056,8868925,8898958,3701661,4389985,7304516,12638135,7897349,8186946,6739433,7199298,8259535,2853988,11915825,24535088,10286520,8838981,12468715,5238665,12606141,23413131,21714814,1658645,10172243,5696897,22280947,8933985,21167481,5672554,5288011,10451610,1999059,4453411,4333493,10660546,13716368,3575997,8912790,8312733,22430851,8435665,21373731,9589805,7863946,8986168,13294635,6866712,6837879,23589378,2852880,9753125,13942192,22842363,10990368,1156174,10371529,12916806,4677274,6773484,1497186,3199342,7887926,22101835,3241634,21190793,6759896,9955246,9316854,6178365,12106629,24495035,4119482,7254207,24159936,3257236,20847808,12792118,4199600,12071086,10417836,2797281,2726095,10780134,9659634,8477607,22560113,4593676,13907483,9351794,12383636,7904242,4910889,13134758,12051334,21914520,24820182,2741641,24483541,9466892,1601983,1754772,7928281,1494680,22179983,6272262,4014892,10508913,6540076,10938238,20946144,9018982,9186866,12466847,7912203,24418101,3669163,21556585,20867380,11770566,8294492,7263823,8040884,9303177,2411121,1186434,22573781,11773542,2506847,21283593,5246472,20962489,12509636,2112079,2625305,13463187,21309349,4288264,3921587,7524111,9500142,21505945,12504431,12529476,6509154,3314137,10191076,13313360,12654795,7342226,1128103,8756512,3228396,4912015,7344324,9867802,10561795,2475568,10628626,2823305,10413701,8453780,3586680,13123761,4417616,24181282,4889353,10245514,24353484,12152236,2481666,1824405,11954997,13421491,8326851,5358981,2121993,7792511,11168314,12434924,11558597,2592966,5007857,4651168,2242687,2004014,1213498,6709108,2650470,11263518,3612077,3876303,12709966,11091851,12859837,10934214,7194944,20977720,11444946,20816703,24718459,3298514,2693585,2868840,3748718,6352237,11310210,10105516,11077492,8738408,22490665,2004435,9206825,8448554,20809227,13527358,4322817,10079624,8964700,1789403,12786538,24603201,5570234,3895617,21839595,2369042,12497441,11839816,1638499,13092994,23555584,1431580,11199617,6205851,11554264,6880287,4987915,3919885,5397879,12732513,4365202,4160709,3025242,10070755,7152404,11317876,4204378,12094209,3125553,6366879,11254281,3793245,9216872,13636152,11032168,22210383,10568050,5815235,7092548,13370824,3574331,10844267,12781295,2509331,21527777,7123500,11339088,3286576,6563890,2530889,2687178,10897414,11851229,6048806,11860255,9361562,8810842,12637417,20855416,23222633,12527691,10205841,1161329,13375178,6238682,12028448,6749924,6033748,10675904,1097560,21799133,22486757,10848547,7873434,23154118,4241986,21538350,24433329,24296454,11121248,1717349,9658947,12412722,13543284,8592303,8231094,13115704,4030665,12238246,11591315,13470741,2795248,8918897,11783221,10491673,6576705,9402971,1395958,3853501,3104876,9271946,13806312,22454545,12401811,11691145,21970728,10170134,7102952,7121016,1656180,13012116,4770329,2173148,21736944,23183025,22394993,3132338,1243407,23021842,1665746,1281200,12022856,10926812,13145862,13481199,12921637,7453125,21950958,6453532,1784860,21172237,1640557,10019625,11871739,1255995,5893920,12286884,3568311,3213838,1538735,10504407,7370847,7059066,1917364,1605142,6909533,2292192,11118694,7203768,13337979,8829098,1681779,8992408,11798394,8337124,9276811,2728195,22159532,6844497,7120295,13858099,5655327,11901151,11435950,8026394,11453612,1548253,10966085,8436542,6494685,9481413,6668650,1266159,13188472,23567422,7467864,24621584,13394358,21272366,13061032,8740935,4219352,10615150,3564675,9498864,11154479,22233316,11439127,9260316,6992702,2324003,2777609,22442493,20898645,9232537,8159034,4696540,22480008,11997667,10035134,3204008,10538046,12836496,10791317,12599677,10322523,9793226,2613002,1342209,9788827,3236152,9857480,2532604,9104076,6257015,4718785,8789093,7938281,2459615,11326359,21825985,5249702,7289805,22863509,11399256,13198143,2701104,6906672,13034847,23442933,2657234,1971604,22871589,10062522,21701854,1661900,8546769,4012920,7528885,5750813,8256966,10810126,4689249,11486277,21443848,21397020,8025606,9282302,2563875,13223041,24689774,9187292,7877478,21607796,6004654,11003332,22362370,23508741,8643897,3969424,11708690,6887332,1682813,22494058,11412574,8201598,13213859,13138040,12471850,7159331,12174117,12650373,11238087,10765187,11778397,9939810,8467829,9414931,2715910,7721756,11414044,6266779,9602597,6354549,5673274,22420301,9377580,11999899,12389976,24721363,12844819,9662832,1495995,24385713,3884925,7076338,1346030,5082907,9875536,7360866,1697154,9811462,10856117,11393028,3684334,2405981,24441069,4144625,2831282,10544322,22070060,23778449,10315938,21904043,13045581,12825449,7427780,2284390,13689099,3524835,6197857,8562827,4343128,24183489,12699203,1707713,10132853,6704893,8664286,9623881,12668721,1248887,8582001,5001748,22225131,10319081,5088632,24355131,4662132,8596752,10456611,2596969,12062745,6063394,6819336,23684105,5105230,13192547,3384220,11066254,13499737,2682838,4660630,11691602,22987057,12807467,9844347,6394309,3244427,10166271,22173385,23285821,13342097,23790274,9880644,5325433,1730272,13462914,1861905,8520296,9119566,7247834,22198670,20946789,11503594,23936690,10819216,7201588,23532558,7634368,2266071,2552300,10790728,21761155,4591776,12173258,1656575,11553841,6458761,1699929,23131062,10741264,5753615,8192770,8723809,9532682,8626575,3647942,10926517,1980009,10514273,10136788,9174802,11626453,22120972,11909460,3087093,23236926,9061022,4586146,11001235,23974850,10804821,5159352,8166732,22295273,8433399,2616126,11546842,7089229,4940293,11762749,11140002,6619594,11193469,23045056,4191961,8760562,7746650,8445503,8259649,22545040,2511079,22626808,12665515,5698262,7262761,23015537,13198592,8797440,9221461,10145044,12716864,13369114,11416909,5839206,1775695,22910743,21014443,1522350,8700756,9884432,21975198,6574972,4303103,5743436,7188216,12005862,5281888,7757630,4924814,4385222,2742187,8520653,3120664,7673131,24840237,11940696,2157906,11544640,9399581,7576154,22902856,22891260,12358889,10347792,13748014,6437987,10752933,7560960,2784899,8521968,11334633,11313904,23531310,2818940,8724815,5144534,9965282,1922573,22231994,5553311,10677542,7860878,6623561,1504781,8391976,8887298,5037637,5274513,1468059,6203100,9680784,12100210,11193440,11376434,11985577,5876772,22658133,20830750,13008240,11575188,9632350,6808986,3334081,10810597,13129299,21799194,4681175,9980947,22550206,9560044,9997656,12133577,6084660,13964672,21362923,7014417,2692470,5374966,23702736,12352653,5500655,9757090,10187939,22933082,21784436,8140768,21529193,9972390,3254647,13564238,12638635,1543793,1699603,10019914,11344616,1923292,7727830,2979928,10733086,3563815,12058851,24627890,22606114,9517933,3127778,8727262,1305478,8672350,4213072,6745750,10883552,23802855,7106877,24032448,10507371,8555407,12028874,9198172,12522609,5776818,7210061,3639586,9322423,7533580,13342450,2886158,3088892,23266727,12451498,4079766,12808280,8164885,8254570,6245485,3320937,21416881,8488167,10850506,2927387,12924072,13766143,7534584,8624402,21879333,12378452,3856274,13012452,5063676,9415367,2025802,22626236,9281235,23572282,2471668,4796510,6880292,13741762,9123011,3308331,10234863,4384623,10077686,20930567,11749208,10510394,23694869,8814604,4925439,24443358,9196617,23640575,21753882,11568048,12151590,11426153,23746583,13005737,21131269,4860431,22105188,6516436,6380301,20869350,22698088,6050635,7144440,9178957,22877463,22059493,12970192,3766402,22281183,23489809,6662566,5095707,22969806,5734741,12001847,22236283,2753557,12555904,10173140,6333895,12792872,2780506,4323394,6863609,11927060,8431478,20881632,9501510,21010352,14015860,2846982,6747996,24434568,22284100,9063933,5521644,3962652],\"yaxis\":\"y\",\"type\":\"bar\"}],                        {\"template\":{\"data\":{\"histogram2dcontour\":[{\"type\":\"histogram2dcontour\",\"colorbar\":{\"outlinewidth\":0,\"ticks\":\"\"},\"colorscale\":[[0.0,\"#0d0887\"],[0.1111111111111111,\"#46039f\"],[0.2222222222222222,\"#7201a8\"],[0.3333333333333333,\"#9c179e\"],[0.4444444444444444,\"#bd3786\"],[0.5555555555555556,\"#d8576b\"],[0.6666666666666666,\"#ed7953\"],[0.7777777777777778,\"#fb9f3a\"],[0.8888888888888888,\"#fdca26\"],[1.0,\"#f0f921\"]]}],\"choropleth\":[{\"type\":\"choropleth\",\"colorbar\":{\"outlinewidth\":0,\"ticks\":\"\"}}],\"histogram2d\":[{\"type\":\"histogram2d\",\"colorbar\":{\"outlinewidth\":0,\"ticks\":\"\"},\"colorscale\":[[0.0,\"#0d0887\"],[0.1111111111111111,\"#46039f\"],[0.2222222222222222,\"#7201a8\"],[0.3333333333333333,\"#9c179e\"],[0.4444444444444444,\"#bd3786\"],[0.5555555555555556,\"#d8576b\"],[0.6666666666666666,\"#ed7953\"],[0.7777777777777778,\"#fb9f3a\"],[0.8888888888888888,\"#fdca26\"],[1.0,\"#f0f921\"]]}],\"heatmap\":[{\"type\":\"heatmap\",\"colorbar\":{\"outlinewidth\":0,\"ticks\":\"\"},\"colorscale\":[[0.0,\"#0d0887\"],[0.1111111111111111,\"#46039f\"],[0.2222222222222222,\"#7201a8\"],[0.3333333333333333,\"#9c179e\"],[0.4444444444444444,\"#bd3786\"],[0.5555555555555556,\"#d8576b\"],[0.6666666666666666,\"#ed7953\"],[0.7777777777777778,\"#fb9f3a\"],[0.8888888888888888,\"#fdca26\"],[1.0,\"#f0f921\"]]}],\"heatmapgl\":[{\"type\":\"heatmapgl\",\"colorbar\":{\"outlinewidth\":0,\"ticks\":\"\"},\"colorscale\":[[0.0,\"#0d0887\"],[0.1111111111111111,\"#46039f\"],[0.2222222222222222,\"#7201a8\"],[0.3333333333333333,\"#9c179e\"],[0.4444444444444444,\"#bd3786\"],[0.5555555555555556,\"#d8576b\"],[0.6666666666666666,\"#ed7953\"],[0.7777777777777778,\"#fb9f3a\"],[0.8888888888888888,\"#fdca26\"],[1.0,\"#f0f921\"]]}],\"contourcarpet\":[{\"type\":\"contourcarpet\",\"colorbar\":{\"outlinewidth\":0,\"ticks\":\"\"}}],\"contour\":[{\"type\":\"contour\",\"colorbar\":{\"outlinewidth\":0,\"ticks\":\"\"},\"colorscale\":[[0.0,\"#0d0887\"],[0.1111111111111111,\"#46039f\"],[0.2222222222222222,\"#7201a8\"],[0.3333333333333333,\"#9c179e\"],[0.4444444444444444,\"#bd3786\"],[0.5555555555555556,\"#d8576b\"],[0.6666666666666666,\"#ed7953\"],[0.7777777777777778,\"#fb9f3a\"],[0.8888888888888888,\"#fdca26\"],[1.0,\"#f0f921\"]]}],\"surface\":[{\"type\":\"surface\",\"colorbar\":{\"outlinewidth\":0,\"ticks\":\"\"},\"colorscale\":[[0.0,\"#0d0887\"],[0.1111111111111111,\"#46039f\"],[0.2222222222222222,\"#7201a8\"],[0.3333333333333333,\"#9c179e\"],[0.4444444444444444,\"#bd3786\"],[0.5555555555555556,\"#d8576b\"],[0.6666666666666666,\"#ed7953\"],[0.7777777777777778,\"#fb9f3a\"],[0.8888888888888888,\"#fdca26\"],[1.0,\"#f0f921\"]]}],\"mesh3d\":[{\"type\":\"mesh3d\",\"colorbar\":{\"outlinewidth\":0,\"ticks\":\"\"}}],\"scatter\":[{\"fillpattern\":{\"fillmode\":\"overlay\",\"size\":10,\"solidity\":0.2},\"type\":\"scatter\"}],\"parcoords\":[{\"type\":\"parcoords\",\"line\":{\"colorbar\":{\"outlinewidth\":0,\"ticks\":\"\"}}}],\"scatterpolargl\":[{\"type\":\"scatterpolargl\",\"marker\":{\"colorbar\":{\"outlinewidth\":0,\"ticks\":\"\"}}}],\"bar\":[{\"error_x\":{\"color\":\"#2a3f5f\"},\"error_y\":{\"color\":\"#2a3f5f\"},\"marker\":{\"line\":{\"color\":\"#E5ECF6\",\"width\":0.5},\"pattern\":{\"fillmode\":\"overlay\",\"size\":10,\"solidity\":0.2}},\"type\":\"bar\"}],\"scattergeo\":[{\"type\":\"scattergeo\",\"marker\":{\"colorbar\":{\"outlinewidth\":0,\"ticks\":\"\"}}}],\"scatterpolar\":[{\"type\":\"scatterpolar\",\"marker\":{\"colorbar\":{\"outlinewidth\":0,\"ticks\":\"\"}}}],\"histogram\":[{\"marker\":{\"pattern\":{\"fillmode\":\"overlay\",\"size\":10,\"solidity\":0.2}},\"type\":\"histogram\"}],\"scattergl\":[{\"type\":\"scattergl\",\"marker\":{\"colorbar\":{\"outlinewidth\":0,\"ticks\":\"\"}}}],\"scatter3d\":[{\"type\":\"scatter3d\",\"line\":{\"colorbar\":{\"outlinewidth\":0,\"ticks\":\"\"}},\"marker\":{\"colorbar\":{\"outlinewidth\":0,\"ticks\":\"\"}}}],\"scattermapbox\":[{\"type\":\"scattermapbox\",\"marker\":{\"colorbar\":{\"outlinewidth\":0,\"ticks\":\"\"}}}],\"scatterternary\":[{\"type\":\"scatterternary\",\"marker\":{\"colorbar\":{\"outlinewidth\":0,\"ticks\":\"\"}}}],\"scattercarpet\":[{\"type\":\"scattercarpet\",\"marker\":{\"colorbar\":{\"outlinewidth\":0,\"ticks\":\"\"}}}],\"carpet\":[{\"aaxis\":{\"endlinecolor\":\"#2a3f5f\",\"gridcolor\":\"white\",\"linecolor\":\"white\",\"minorgridcolor\":\"white\",\"startlinecolor\":\"#2a3f5f\"},\"baxis\":{\"endlinecolor\":\"#2a3f5f\",\"gridcolor\":\"white\",\"linecolor\":\"white\",\"minorgridcolor\":\"white\",\"startlinecolor\":\"#2a3f5f\"},\"type\":\"carpet\"}],\"table\":[{\"cells\":{\"fill\":{\"color\":\"#EBF0F8\"},\"line\":{\"color\":\"white\"}},\"header\":{\"fill\":{\"color\":\"#C8D4E3\"},\"line\":{\"color\":\"white\"}},\"type\":\"table\"}],\"barpolar\":[{\"marker\":{\"line\":{\"color\":\"#E5ECF6\",\"width\":0.5},\"pattern\":{\"fillmode\":\"overlay\",\"size\":10,\"solidity\":0.2}},\"type\":\"barpolar\"}],\"pie\":[{\"automargin\":true,\"type\":\"pie\"}]},\"layout\":{\"autotypenumbers\":\"strict\",\"colorway\":[\"#636efa\",\"#EF553B\",\"#00cc96\",\"#ab63fa\",\"#FFA15A\",\"#19d3f3\",\"#FF6692\",\"#B6E880\",\"#FF97FF\",\"#FECB52\"],\"font\":{\"color\":\"#2a3f5f\"},\"hovermode\":\"closest\",\"hoverlabel\":{\"align\":\"left\"},\"paper_bgcolor\":\"white\",\"plot_bgcolor\":\"#E5ECF6\",\"polar\":{\"bgcolor\":\"#E5ECF6\",\"angularaxis\":{\"gridcolor\":\"white\",\"linecolor\":\"white\",\"ticks\":\"\"},\"radialaxis\":{\"gridcolor\":\"white\",\"linecolor\":\"white\",\"ticks\":\"\"}},\"ternary\":{\"bgcolor\":\"#E5ECF6\",\"aaxis\":{\"gridcolor\":\"white\",\"linecolor\":\"white\",\"ticks\":\"\"},\"baxis\":{\"gridcolor\":\"white\",\"linecolor\":\"white\",\"ticks\":\"\"},\"caxis\":{\"gridcolor\":\"white\",\"linecolor\":\"white\",\"ticks\":\"\"}},\"coloraxis\":{\"colorbar\":{\"outlinewidth\":0,\"ticks\":\"\"}},\"colorscale\":{\"sequential\":[[0.0,\"#0d0887\"],[0.1111111111111111,\"#46039f\"],[0.2222222222222222,\"#7201a8\"],[0.3333333333333333,\"#9c179e\"],[0.4444444444444444,\"#bd3786\"],[0.5555555555555556,\"#d8576b\"],[0.6666666666666666,\"#ed7953\"],[0.7777777777777778,\"#fb9f3a\"],[0.8888888888888888,\"#fdca26\"],[1.0,\"#f0f921\"]],\"sequentialminus\":[[0.0,\"#0d0887\"],[0.1111111111111111,\"#46039f\"],[0.2222222222222222,\"#7201a8\"],[0.3333333333333333,\"#9c179e\"],[0.4444444444444444,\"#bd3786\"],[0.5555555555555556,\"#d8576b\"],[0.6666666666666666,\"#ed7953\"],[0.7777777777777778,\"#fb9f3a\"],[0.8888888888888888,\"#fdca26\"],[1.0,\"#f0f921\"]],\"diverging\":[[0,\"#8e0152\"],[0.1,\"#c51b7d\"],[0.2,\"#de77ae\"],[0.3,\"#f1b6da\"],[0.4,\"#fde0ef\"],[0.5,\"#f7f7f7\"],[0.6,\"#e6f5d0\"],[0.7,\"#b8e186\"],[0.8,\"#7fbc41\"],[0.9,\"#4d9221\"],[1,\"#276419\"]]},\"xaxis\":{\"gridcolor\":\"white\",\"linecolor\":\"white\",\"ticks\":\"\",\"title\":{\"standoff\":15},\"zerolinecolor\":\"white\",\"automargin\":true,\"zerolinewidth\":2},\"yaxis\":{\"gridcolor\":\"white\",\"linecolor\":\"white\",\"ticks\":\"\",\"title\":{\"standoff\":15},\"zerolinecolor\":\"white\",\"automargin\":true,\"zerolinewidth\":2},\"scene\":{\"xaxis\":{\"backgroundcolor\":\"#E5ECF6\",\"gridcolor\":\"white\",\"linecolor\":\"white\",\"showbackground\":true,\"ticks\":\"\",\"zerolinecolor\":\"white\",\"gridwidth\":2},\"yaxis\":{\"backgroundcolor\":\"#E5ECF6\",\"gridcolor\":\"white\",\"linecolor\":\"white\",\"showbackground\":true,\"ticks\":\"\",\"zerolinecolor\":\"white\",\"gridwidth\":2},\"zaxis\":{\"backgroundcolor\":\"#E5ECF6\",\"gridcolor\":\"white\",\"linecolor\":\"white\",\"showbackground\":true,\"ticks\":\"\",\"zerolinecolor\":\"white\",\"gridwidth\":2}},\"shapedefaults\":{\"line\":{\"color\":\"#2a3f5f\"}},\"annotationdefaults\":{\"arrowcolor\":\"#2a3f5f\",\"arrowhead\":0,\"arrowwidth\":1},\"geo\":{\"bgcolor\":\"white\",\"landcolor\":\"#E5ECF6\",\"subunitcolor\":\"white\",\"showland\":true,\"showlakes\":true,\"lakecolor\":\"white\"},\"title\":{\"x\":0.05},\"mapbox\":{\"style\":\"light\"}}},\"xaxis\":{\"anchor\":\"y\",\"domain\":[0.0,1.0],\"title\":{\"text\":\"city_name_fa\"}},\"yaxis\":{\"anchor\":\"x\",\"domain\":[0.0,1.0],\"title\":{\"text\":\"ID_Order\"}},\"legend\":{\"tracegroupgap\":0},\"margin\":{\"t\":60},\"barmode\":\"group\"},                        {\"responsive\": true}                    ).then(function(){\n",
       "                            \n",
       "var gd = document.getElementById('c0795965-b39c-44f9-933f-9cf0f150a65b');\n",
       "var x = new MutationObserver(function (mutations, observer) {{\n",
       "        var display = window.getComputedStyle(gd).display;\n",
       "        if (!display || display === 'none') {{\n",
       "            console.log([gd, 'removed!']);\n",
       "            Plotly.purge(gd);\n",
       "            observer.disconnect();\n",
       "        }}\n",
       "}});\n",
       "\n",
       "// Listen for the removal of the full notebook cells\n",
       "var notebookContainer = gd.closest('#notebook-container');\n",
       "if (notebookContainer) {{\n",
       "    x.observe(notebookContainer, {childList: true});\n",
       "}}\n",
       "\n",
       "// Listen for the clearing of the current output cell\n",
       "var outputEl = gd.closest('.output');\n",
       "if (outputEl) {{\n",
       "    x.observe(outputEl, {childList: true});\n",
       "}}\n",
       "\n",
       "                        })                };                });            </script>        </div>"
      ]
     },
     "metadata": {},
     "output_type": "display_data"
    }
   ],
   "source": [
    "px.bar(df, x=\"city_name_fa\", y=\"ID_Order\", barmode=\"group\")"
   ]
  },
  {
   "cell_type": "code",
   "execution_count": null,
   "id": "557c3acb",
   "metadata": {
    "papermill": {
     "duration": 0.016962,
     "end_time": "2022-09-19T15:30:22.020754",
     "exception": false,
     "start_time": "2022-09-19T15:30:22.003792",
     "status": "completed"
    },
    "tags": []
   },
   "outputs": [],
   "source": []
  }
 ],
 "metadata": {
  "kernelspec": {
   "display_name": "Python 3",
   "language": "python",
   "name": "python3"
  },
  "language_info": {
   "codemirror_mode": {
    "name": "ipython",
    "version": 3
   },
   "file_extension": ".py",
   "mimetype": "text/x-python",
   "name": "python",
   "nbconvert_exporter": "python",
   "pygments_lexer": "ipython3",
   "version": "3.7.12"
  },
  "papermill": {
   "default_parameters": {},
   "duration": 30.512721,
   "end_time": "2022-09-19T15:30:23.061315",
   "environment_variables": {},
   "exception": null,
   "input_path": "__notebook__.ipynb",
   "output_path": "__notebook__.ipynb",
   "parameters": {},
   "start_time": "2022-09-19T15:29:52.548594",
   "version": "2.3.4"
  }
 },
 "nbformat": 4,
 "nbformat_minor": 5
}
