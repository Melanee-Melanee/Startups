{
 "cells": [
  {
   "cell_type": "code",
   "execution_count": 1,
   "id": "cbaa56b0",
   "metadata": {
    "_cell_guid": "b1076dfc-b9ad-4769-8c92-a6c4dae69d19",
    "_uuid": "8f2839f25d086af736a60e9eeb907d3b93b6e0e5",
    "execution": {
     "iopub.execute_input": "2022-09-14T16:29:51.706897Z",
     "iopub.status.busy": "2022-09-14T16:29:51.706407Z",
     "iopub.status.idle": "2022-09-14T16:29:51.734849Z",
     "shell.execute_reply": "2022-09-14T16:29:51.733502Z"
    },
    "papermill": {
     "duration": 0.037129,
     "end_time": "2022-09-14T16:29:51.738236",
     "exception": false,
     "start_time": "2022-09-14T16:29:51.701107",
     "status": "completed"
    },
    "tags": []
   },
   "outputs": [
    {
     "name": "stdout",
     "output_type": "stream",
     "text": [
      "/kaggle/input/digikala/digikala/3-p5s3708k.csv\n",
      "/kaggle/input/digikala/digikala/4-oska9ni8.xlsx\n",
      "/kaggle/input/digikala/digikala/1-k9d5q7lw.csv\n",
      "/kaggle/input/digikala/digikala/2-p9vcb5bb.xlsx\n",
      "/kaggle/input/digikala/digikala/5-awte8wbd.xlsx\n",
      "/kaggle/input/digikala/digikala/digikala/3-p5s3708k.csv\n",
      "/kaggle/input/digikala/digikala/digikala/4-oska9ni8.xlsx\n",
      "/kaggle/input/digikala/digikala/digikala/1-k9d5q7lw.csv\n",
      "/kaggle/input/digikala/digikala/digikala/2-p9vcb5bb.xlsx\n",
      "/kaggle/input/digikala/digikala/digikala/5-awte8wbd.xlsx\n"
     ]
    }
   ],
   "source": [
    "# This Python 3 environment comes with many helpful analytics libraries installed\n",
    "# It is defined by the kaggle/python Docker image: https://github.com/kaggle/docker-python\n",
    "# For example, here's several helpful packages to load\n",
    "\n",
    "import numpy as np # linear algebra\n",
    "import pandas as pd # data processing, CSV file I/O (e.g. pd.read_csv)\n",
    "\n",
    "# Input data files are available in the read-only \"../input/\" directory\n",
    "# For example, running this (by clicking run or pressing Shift+Enter) will list all files under the input directory\n",
    "\n",
    "import os\n",
    "for dirname, _, filenames in os.walk('/kaggle/input'):\n",
    "    for filename in filenames:\n",
    "        print(os.path.join(dirname, filename))\n",
    "\n",
    "# You can write up to 20GB to the current directory (/kaggle/working/) that gets preserved as output when you create a version using \"Save & Run All\" \n",
    "# You can also write temporary files to /kaggle/temp/, but they won't be saved outside of the current session"
   ]
  },
  {
   "cell_type": "code",
   "execution_count": 2,
   "id": "44e39c4e",
   "metadata": {
    "execution": {
     "iopub.execute_input": "2022-09-14T16:29:51.745135Z",
     "iopub.status.busy": "2022-09-14T16:29:51.744734Z",
     "iopub.status.idle": "2022-09-14T16:29:52.303438Z",
     "shell.execute_reply": "2022-09-14T16:29:52.302339Z"
    },
    "papermill": {
     "duration": 0.565102,
     "end_time": "2022-09-14T16:29:52.306099",
     "exception": false,
     "start_time": "2022-09-14T16:29:51.740997",
     "status": "completed"
    },
    "tags": []
   },
   "outputs": [],
   "source": [
    "df = pd.read_csv('../input/digikala/digikala/3-p5s3708k.csv')"
   ]
  },
  {
   "cell_type": "code",
   "execution_count": 3,
   "id": "7af98a17",
   "metadata": {
    "execution": {
     "iopub.execute_input": "2022-09-14T16:29:52.312432Z",
     "iopub.status.busy": "2022-09-14T16:29:52.312038Z",
     "iopub.status.idle": "2022-09-14T16:29:52.338701Z",
     "shell.execute_reply": "2022-09-14T16:29:52.337616Z"
    },
    "papermill": {
     "duration": 0.033521,
     "end_time": "2022-09-14T16:29:52.342060",
     "exception": false,
     "start_time": "2022-09-14T16:29:52.308539",
     "status": "completed"
    },
    "tags": []
   },
   "outputs": [
    {
     "data": {
      "text/html": [
       "<div>\n",
       "<style scoped>\n",
       "    .dataframe tbody tr th:only-of-type {\n",
       "        vertical-align: middle;\n",
       "    }\n",
       "\n",
       "    .dataframe tbody tr th {\n",
       "        vertical-align: top;\n",
       "    }\n",
       "\n",
       "    .dataframe thead th {\n",
       "        text-align: right;\n",
       "    }\n",
       "</style>\n",
       "<table border=\"1\" class=\"dataframe\">\n",
       "  <thead>\n",
       "    <tr style=\"text-align: right;\">\n",
       "      <th></th>\n",
       "      <th>ID_Order</th>\n",
       "      <th>ID_Customer</th>\n",
       "      <th>ID_Item</th>\n",
       "      <th>DateTime_CartFinalize</th>\n",
       "      <th>Amount_Gross_Order</th>\n",
       "      <th>city_name_fa</th>\n",
       "      <th>Quantity_item</th>\n",
       "    </tr>\n",
       "  </thead>\n",
       "  <tbody>\n",
       "    <tr>\n",
       "      <th>0</th>\n",
       "      <td>2714054</td>\n",
       "      <td>469662</td>\n",
       "      <td>21386</td>\n",
       "      <td>2015-10-15 08:50:56.000</td>\n",
       "      <td>597982.0</td>\n",
       "      <td>محمود آباد</td>\n",
       "      <td>1.0</td>\n",
       "    </tr>\n",
       "    <tr>\n",
       "      <th>1</th>\n",
       "      <td>11104039</td>\n",
       "      <td>3063877</td>\n",
       "      <td>248497</td>\n",
       "      <td>2018-02-11 00:29:26.000</td>\n",
       "      <td>980000.0</td>\n",
       "      <td>خرمدره</td>\n",
       "      <td>1.0</td>\n",
       "    </tr>\n",
       "    <tr>\n",
       "      <th>2</th>\n",
       "      <td>4228130</td>\n",
       "      <td>3184893</td>\n",
       "      <td>50144</td>\n",
       "      <td>2016-06-14 00:30:08.000</td>\n",
       "      <td>229358.0</td>\n",
       "      <td>قرچک</td>\n",
       "      <td>1.0</td>\n",
       "    </tr>\n",
       "    <tr>\n",
       "      <th>3</th>\n",
       "      <td>22225624</td>\n",
       "      <td>6888562</td>\n",
       "      <td>70208</td>\n",
       "      <td>2018-09-03 14:37:19.000</td>\n",
       "      <td>16514.0</td>\n",
       "      <td>قم</td>\n",
       "      <td>1.0</td>\n",
       "    </tr>\n",
       "    <tr>\n",
       "      <th>4</th>\n",
       "      <td>4068771</td>\n",
       "      <td>2533490</td>\n",
       "      <td>67627</td>\n",
       "      <td>2016-05-21 11:51:02.000</td>\n",
       "      <td>133028.0</td>\n",
       "      <td>تهران</td>\n",
       "      <td>1.0</td>\n",
       "    </tr>\n",
       "    <tr>\n",
       "      <th>5</th>\n",
       "      <td>11479246</td>\n",
       "      <td>2841640</td>\n",
       "      <td>312932</td>\n",
       "      <td>2018-03-01 12:07:15.000</td>\n",
       "      <td>290000.0</td>\n",
       "      <td>مشهد</td>\n",
       "      <td>1.0</td>\n",
       "    </tr>\n",
       "    <tr>\n",
       "      <th>6</th>\n",
       "      <td>8267421</td>\n",
       "      <td>5235886</td>\n",
       "      <td>42365</td>\n",
       "      <td>2017-08-19 13:30:24.000</td>\n",
       "      <td>55046.0</td>\n",
       "      <td>اصفهان</td>\n",
       "      <td>1.0</td>\n",
       "    </tr>\n",
       "    <tr>\n",
       "      <th>7</th>\n",
       "      <td>11588978</td>\n",
       "      <td>5574955</td>\n",
       "      <td>715680</td>\n",
       "      <td>2018-03-04 19:19:02.000</td>\n",
       "      <td>2790000.0</td>\n",
       "      <td>رشت</td>\n",
       "      <td>1.0</td>\n",
       "    </tr>\n",
       "    <tr>\n",
       "      <th>8</th>\n",
       "      <td>9916301</td>\n",
       "      <td>1145709</td>\n",
       "      <td>102588</td>\n",
       "      <td>2017-12-11 19:33:59.000</td>\n",
       "      <td>34862.0</td>\n",
       "      <td>تهران</td>\n",
       "      <td>1.0</td>\n",
       "    </tr>\n",
       "    <tr>\n",
       "      <th>9</th>\n",
       "      <td>10740652</td>\n",
       "      <td>4928230</td>\n",
       "      <td>658519</td>\n",
       "      <td>2018-01-23 06:11:34.000</td>\n",
       "      <td>2600000.0</td>\n",
       "      <td>خرمشهر</td>\n",
       "      <td>1.0</td>\n",
       "    </tr>\n",
       "  </tbody>\n",
       "</table>\n",
       "</div>"
      ],
      "text/plain": [
       "   ID_Order  ID_Customer  ID_Item    DateTime_CartFinalize  \\\n",
       "0   2714054       469662    21386  2015-10-15 08:50:56.000   \n",
       "1  11104039      3063877   248497  2018-02-11 00:29:26.000   \n",
       "2   4228130      3184893    50144  2016-06-14 00:30:08.000   \n",
       "3  22225624      6888562    70208  2018-09-03 14:37:19.000   \n",
       "4   4068771      2533490    67627  2016-05-21 11:51:02.000   \n",
       "5  11479246      2841640   312932  2018-03-01 12:07:15.000   \n",
       "6   8267421      5235886    42365  2017-08-19 13:30:24.000   \n",
       "7  11588978      5574955   715680  2018-03-04 19:19:02.000   \n",
       "8   9916301      1145709   102588  2017-12-11 19:33:59.000   \n",
       "9  10740652      4928230   658519  2018-01-23 06:11:34.000   \n",
       "\n",
       "   Amount_Gross_Order city_name_fa  Quantity_item  \n",
       "0            597982.0   محمود آباد            1.0  \n",
       "1            980000.0       خرمدره            1.0  \n",
       "2            229358.0         قرچک            1.0  \n",
       "3             16514.0           قم            1.0  \n",
       "4            133028.0        تهران            1.0  \n",
       "5            290000.0         مشهد            1.0  \n",
       "6             55046.0       اصفهان            1.0  \n",
       "7           2790000.0          رشت            1.0  \n",
       "8             34862.0        تهران            1.0  \n",
       "9           2600000.0       خرمشهر            1.0  "
      ]
     },
     "execution_count": 3,
     "metadata": {},
     "output_type": "execute_result"
    }
   ],
   "source": [
    "df.head(10)"
   ]
  },
  {
   "cell_type": "code",
   "execution_count": 4,
   "id": "312ff1d3",
   "metadata": {
    "execution": {
     "iopub.execute_input": "2022-09-14T16:29:52.349296Z",
     "iopub.status.busy": "2022-09-14T16:29:52.348889Z",
     "iopub.status.idle": "2022-09-14T16:29:52.394303Z",
     "shell.execute_reply": "2022-09-14T16:29:52.392721Z"
    },
    "papermill": {
     "duration": 0.052565,
     "end_time": "2022-09-14T16:29:52.397520",
     "exception": false,
     "start_time": "2022-09-14T16:29:52.344955",
     "status": "completed"
    },
    "tags": []
   },
   "outputs": [
    {
     "name": "stdout",
     "output_type": "stream",
     "text": [
      "<class 'pandas.core.frame.DataFrame'>\n",
      "RangeIndex: 200000 entries, 0 to 199999\n",
      "Data columns (total 7 columns):\n",
      " #   Column                 Non-Null Count   Dtype  \n",
      "---  ------                 --------------   -----  \n",
      " 0   ID_Order               200000 non-null  int64  \n",
      " 1   ID_Customer            200000 non-null  int64  \n",
      " 2   ID_Item                200000 non-null  int64  \n",
      " 3   DateTime_CartFinalize  200000 non-null  object \n",
      " 4   Amount_Gross_Order     200000 non-null  float64\n",
      " 5   city_name_fa           200000 non-null  object \n",
      " 6   Quantity_item          200000 non-null  float64\n",
      "dtypes: float64(2), int64(3), object(2)\n",
      "memory usage: 10.7+ MB\n"
     ]
    }
   ],
   "source": [
    "df.info()"
   ]
  },
  {
   "cell_type": "code",
   "execution_count": null,
   "id": "694c0c6d",
   "metadata": {
    "papermill": {
     "duration": 0.002329,
     "end_time": "2022-09-14T16:29:52.402633",
     "exception": false,
     "start_time": "2022-09-14T16:29:52.400304",
     "status": "completed"
    },
    "tags": []
   },
   "outputs": [],
   "source": []
  }
 ],
 "metadata": {
  "kernelspec": {
   "display_name": "Python 3",
   "language": "python",
   "name": "python3"
  },
  "language_info": {
   "codemirror_mode": {
    "name": "ipython",
    "version": 3
   },
   "file_extension": ".py",
   "mimetype": "text/x-python",
   "name": "python",
   "nbconvert_exporter": "python",
   "pygments_lexer": "ipython3",
   "version": "3.7.12"
  },
  "papermill": {
   "default_parameters": {},
   "duration": 10.643912,
   "end_time": "2022-09-14T16:29:53.128794",
   "environment_variables": {},
   "exception": null,
   "input_path": "__notebook__.ipynb",
   "output_path": "__notebook__.ipynb",
   "parameters": {},
   "start_time": "2022-09-14T16:29:42.484882",
   "version": "2.3.4"
  }
 },
 "nbformat": 4,
 "nbformat_minor": 5
}
